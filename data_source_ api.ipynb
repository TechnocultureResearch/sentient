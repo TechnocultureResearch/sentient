{
 "cells": [
  {
   "cell_type": "markdown",
   "metadata": {},
   "source": [
    "# Historical Data: Intraday"
   ]
  },
  {
   "cell_type": "markdown",
   "metadata": {},
   "source": [
    "These financial data are generally provided in a format that includes the following information:  \n",
    "Date  \n",
    "Open Price  \n",
    "High Price  \n",
    "Low Price  \n",
    "Closing Price  \n",
    "Volume\n",
    "These data—often referred to as OHLC Chart Data—can be interpreted as Time Series data and are perfect for performing technical analysis. We’ll dive into this format in just a moment but, for now, just realize this is a standard format for historical pricing data within financial markets."
   ]
  },
  {
   "cell_type": "markdown",
   "metadata": {},
   "source": [
    "## Import libraries"
   ]
  },
  {
   "cell_type": "code",
   "execution_count": null,
   "metadata": {},
   "outputs": [],
   "source": [
    "import yfinance as yf\n",
    "import os\n",
    "import pandas as pd\n",
    "from matplotlib import pyplot as plt\n",
    "from io import StringIO\n",
    "import requests\n",
    "import seaborn as sns\n",
    "import numpy as np"
   ]
  },
  {
   "cell_type": "markdown",
   "metadata": {},
   "source": [
    "## Extracting ticker codes\n",
    "Extracting ticker codes of yfinance and EODhistoricaldata of same companies."
   ]
  },
  {
   "cell_type": "code",
   "execution_count": null,
   "metadata": {},
   "outputs": [],
   "source": [
    "'''Extracting ticker of eodhistoricaldata.'''\n",
    "api_key = os.environ['EOD_API_KEY']\n",
    "\n",
    "class NoSuchExchange(Exception):\n",
    "    def __init__(self, message: str= \"No such exhange supported.\"):\n",
    "        self.message = message\n",
    "        super().__init__(message)\n",
    "\n",
    "def get_ticker_list(exchange, api_token, session=None):\n",
    "    \"\"\"Returns a df of tickers available in EODhistorical data.\"\"\"\n",
    "    if exchange not in ['BSE', 'NSE']:\n",
    "        raise NoSuchExchange()\n",
    "    \n",
    "    if session is None:\n",
    "        session=requests.Session()\n",
    "        url = 'https://eodhistoricaldata.com/api/exchange-symbol-list/%s' % exchange\n",
    "        params = {'api_token': api_token}\n",
    "        r = session.get(url, params=params)\n",
    "    if r.status_code == requests.codes.ok:\n",
    "        df = pd.read_csv(StringIO(r.text), skipfooter=0, parse_dates=[0], index_col=0, engine='python')\n",
    "        return df"
   ]
  },
  {
   "cell_type": "code",
   "execution_count": null,
   "metadata": {},
   "outputs": [],
   "source": [
    "file = 'Yahoo Ticker Symbols - September 2017.xlsx'                                             #file that contains ticker list of yfinance.\n",
    "df = pd.read_excel(os.path.abspath(file), sheet_name='Stock')\n",
    "ticker_list1 = get_ticker_list('BSE', api_key)                                                  #extracting BSE tickers from EOD ticker list.\n",
    "name_list=ticker_list1['Name']\n",
    "df_BSE = df[df['Unnamed: 2'] == 'BSE']                                                          #extracting BSE tickers from yfinance ticker list.\n",
    "ticker = df_BSE[df_BSE['Unnamed: 1'].isin(name_list)].head(30)                                  # filtering common companies in both ticker lists.\n",
    "extra_name = ticker_list1[ticker_list1['Name'].isin(ticker['Unnamed: 1'])].reset_index()        \n",
    "yfinance_ticker = ticker['Yahoo Stock Tickers'].reset_index(drop=True)                          # getting ticker codes of common companies of yfinance.\n",
    "yfinance_company = ticker['Unnamed: 1'].reset_index(drop=True)                                  # getting company name of common companies of yfinance.\n",
    "eod_ticker = extra_name['Code'].reset_index(drop=True)                                          # getting ticker codes of common companies of eodhistoricaldata.\n",
    "eod_company = extra_name['Name'].reset_index(drop=True)                                         # getting company names of common companies of eodhistoricaldata."
   ]
  },
  {
   "cell_type": "markdown",
   "metadata": {},
   "source": [
    "## Download yfinance historical data"
   ]
  },
  {
   "cell_type": "code",
   "execution_count": null,
   "metadata": {},
   "outputs": [],
   "source": [
    "# download historical data of yfinance\n",
    "yfinance_dict = {}\n",
    "for i in range(30):\n",
    "    yfinance_dict[yfinance_company[i]] = yf.download(yfinance_ticker[i], period='max')"
   ]
  },
  {
   "cell_type": "markdown",
   "metadata": {},
   "source": [
    "## Extract EODHistoricaldata"
   ]
  },
  {
   "cell_type": "code",
   "execution_count": null,
   "metadata": {},
   "outputs": [],
   "source": [
    "def get_eod_data(symbol, api_token=\"xxxx\", session=None):\n",
    "    '''returns a df of historical data.'''\n",
    "    if session is None:\n",
    "        session = requests.Session()\n",
    "        url = 'https://eodhistoricaldata.com/api/eod/%s' % symbol\n",
    "        params = {\"api_token\": api_token}\n",
    "        r = session.get(url, params=params)\n",
    "\n",
    "    if r.status_code == requests.codes.ok:\n",
    "        df = pd.read_csv(StringIO(r.text), skipfooter=0, parse_dates=[0], index_col=0, engine='python')\n",
    "        return df\n",
    "\n",
    "\n",
    "api_key = api_key = os.environ['EOD_API_KEY']\n",
    "eod_dict = {}\n",
    "for i in range(29):\n",
    "    eod_dict[eod_company[i]] = get_eod_data(eod_ticker[i]+'.BSE', api_key)\n"
   ]
  },
  {
   "cell_type": "markdown",
   "metadata": {},
   "source": [
    "## Data Preprocessing\n",
    "Checking is data contains null, duplicate values or not and data contains any outliers or not."
   ]
  },
  {
   "cell_type": "code",
   "execution_count": null,
   "metadata": {},
   "outputs": [],
   "source": [
    "# Checking if data contains any outliers\n",
    "def find_outliers(df):\n",
    "   q1=df.quantile(0.25)\n",
    "   q3=df.quantile(0.75)\n",
    "   IQR=q3-q1\n",
    "   outliers = df[((df<(q1-1.5*IQR)) | (df>(q3+1.5*IQR)))]\n",
    "   return pd.DataFrame(outliers)\n",
    "\n",
    "def data_preprocessing(df):\n",
    "   \"\"\"Returns a dictionary with the keys:\n",
    "      null_values: the number of cells which contains null values.\n",
    "      duplicated_values: the number of cells which contain duplicate values.\n",
    "      commont_stats: describe the data like mean, median, max, min\n",
    "      outliers: the no. of outliers data contains and min amd max outlier in particular field.\n",
    "   \"\"\"\n",
    "\n",
    "   null_values = df.isna().sum()                      # checking if data contains any null values\n",
    "   duplicate_values = df.duplicated()                 # checking if data contains any duplicate values\n",
    "   common_stats = df.describe()                       # checking common stats of data\n",
    "   outliers = find_outliers(df)                       # finding outliers in data\n",
    "\n",
    "   dict = {'null_values':null_values, 'duplicate_values':duplicate_values, 'common_stats':common_stats, 'outliers':outliers}\n",
    "   return dict"
   ]
  },
  {
   "cell_type": "code",
   "execution_count": null,
   "metadata": {},
   "outputs": [],
   "source": [
    "\"\"\"Checking EOD and yfinance Data. \"\"\"\n",
    "data_preprocessing_eod = {}\n",
    "data_preprocessing_yfinance = {}\n",
    "for company in eod_dict.keys():\n",
    "    data_preprocessing_eod[company] = data_preprocessing(eod_dict[company])\n",
    "    data_preprocessing_yfinance[company] = data_preprocessing(yfinance_dict[company])"
   ]
  },
  {
   "cell_type": "code",
   "execution_count": null,
   "metadata": {},
   "outputs": [],
   "source": [
    "data_preprocessing_eod"
   ]
  },
  {
   "cell_type": "code",
   "execution_count": null,
   "metadata": {},
   "outputs": [],
   "source": [
    "data_preprocessing_yfinance"
   ]
  },
  {
   "cell_type": "markdown",
   "metadata": {},
   "source": [
    "## Data wrangling\n",
    "Finding differences in data and combining open, close, high, low and volume values of different companies together."
   ]
  },
  {
   "cell_type": "code",
   "execution_count": null,
   "metadata": {},
   "outputs": [],
   "source": [
    "def data_convert(dict):\n",
    "    \"\"\"Returns a list of dataframes with yearly calculated stock data of different companies together of different fields.\"\"\"\n",
    "    data = {}\n",
    "    for company in eod_company:\n",
    "        try:\n",
    "            data[company] = dict[company]\n",
    "            data[company]['date'] = pd.to_datetime(data[company].index)\n",
    "            data[company].set_index('date', inplace=True)\n",
    "            data[company].index = pd.to_datetime(data[company].index)\n",
    "            data[company] = data[company].resample('A').last()\n",
    "        except KeyError as e:\n",
    "            pass\n",
    "\n",
    "    res = pd.concat(data.values(), axis=1, keys=data.keys())\n",
    "\n",
    "    open = {}\n",
    "    close = {}\n",
    "    high = {}\n",
    "    low = {}\n",
    "    volume = {}\n",
    "    for company in data.keys():\n",
    "        open[company] = res[company]['Open']\n",
    "        close[company] = res[company]['Close']\n",
    "        high[company] = res[company]['High']\n",
    "        low[company] = res[company]['Low']\n",
    "        volume[company] = res[company]['Volume']\n",
    "\n",
    "    res_open = pd.DataFrame(open)\n",
    "    res_close = pd.DataFrame(close)\n",
    "    res_high = pd.DataFrame(high)\n",
    "    res_low = pd.DataFrame(low)\n",
    "    res_volume = pd.DataFrame(volume)\n",
    "\n",
    "    return [res_open, res_close, res_high, res_low, res_volume]"
   ]
  },
  {
   "cell_type": "code",
   "execution_count": null,
   "metadata": {},
   "outputs": [],
   "source": [
    "eod_list = data_convert(eod_dict)\n",
    "yfinance_list=data_convert(yfinance_dict)\n",
    "difference_in_data = {}\n",
    "for company in eod_dict.keys():\n",
    "    difference_in_data[company] = eod_dict[company] - yfinance_dict[company]\n",
    "\n",
    "difference_in_data_list = data_convert(difference_in_data)"
   ]
  },
  {
   "cell_type": "markdown",
   "metadata": {},
   "source": [
    "## Ploting the data\n",
    "Let's plot the difference in the values of data provided by yfinance and EODhistorical of 30 companies."
   ]
  },
  {
   "cell_type": "markdown",
   "metadata": {},
   "source": [
    "### Boxplot"
   ]
  },
  {
   "cell_type": "markdown",
   "metadata": {},
   "source": [
    "#### Boxplot of Eodhistorical data\n",
    "Boxplot of EODhistorical data of 30 companies values on yearly basis."
   ]
  },
  {
   "cell_type": "code",
   "execution_count": null,
   "metadata": {},
   "outputs": [],
   "source": [
    "f, axes = plt.subplots(5, figsize = (30,100))\n",
    "\n",
    "date=eod_list[0]\n",
    "sns.boxplot(data=eod_list[0].T, ax=axes[0]).set(title='EOD Open values')\n",
    "axes[0].set_xticks(np.arrange(0,len(date),1), date, rotation='vertical')\n",
    "sns.boxplot(data=eod_list[1].T, ax=axes[1]).set(title='EOD Close values')\n",
    "axes[1].set_xticks(np.arrange(0,len(date),1), date, rotation='vertical')\n",
    "sns.boxplot(data=eod_list[2].T, ax=axes[2]).set(title='EOD High values')\n",
    "axes[2].set_xticks(np.arrange(0,len(date),1), date, rotation='vertical')\n",
    "sns.boxplot(data=eod_list[3].T, ax=axes[3]).set(title='EOD Low values')\n",
    "axes[3].set_xticks(np.arrange(0,len(date),1), date, rotation='vertical')\n",
    "sns.boxplot(data=eod_list[4].T, ax=axes[4]).set(title='EOD Volume values')\n",
    "axes[4].set_xticks(np.arrange(0,len(date),1), date, rotation='vertical')"
   ]
  },
  {
   "cell_type": "markdown",
   "metadata": {},
   "source": [
    "#### Boxplot of Yfinance data\n",
    "Boxplot of Yfinance data of 30 companies values on yearly basis."
   ]
  },
  {
   "cell_type": "code",
   "execution_count": null,
   "metadata": {},
   "outputs": [],
   "source": [
    "f, axes = plt.subplots(5, figsize = (30,40))\n",
    "\n",
    "date=yfinance_list[0].index\n",
    "sns.boxplot(data=yfinance_list[0].T, ax=axes[0]).set(title='Yfinance Open values')\n",
    "axes[0].set_xticks(np.arrange(0,len(date),1), date, rotation='vertical')\n",
    "sns.boxplot(data=yfinance_list[1].T, ax=axes[1]).set(title='Yfinance Close values')\n",
    "axes[1].set_xticks(np.arrange(0,len(date),1), date, rotation='vertical')\n",
    "sns.boxplot(data=yfinance_list[2].T, ax=axes[2]).set(title='Yfinance High values')\n",
    "axes[2].set_xticks(np.arrange(0,len(date),1), date, rotation='vertical')\n",
    "sns.boxplot(data=yfinance_list[3].T, ax=axes[3]).set(title='Yfinance Low values')\n",
    "axes[3].set_xticks(np.arrange(0,len(date),1), date, rotation='vertical')\n",
    "sns.boxplot(data=yfinance_list[4].T, ax=axes[4]).set(title='Yfinance Volume values')\n",
    "axes[4].set_xticks(np.arrange(0,len(date),1), date, rotation='vertical')"
   ]
  },
  {
   "cell_type": "markdown",
   "metadata": {},
   "source": [
    "### Heatmap\n",
    "Heatmap of open, close, low, high and volume of 30 companies of yearly data of difference in the values in the data provided by the eodhistoricaldata and yfinance."
   ]
  },
  {
   "cell_type": "markdown",
   "metadata": {},
   "source": [
    "#### Heatmap of Open values"
   ]
  },
  {
   "cell_type": "code",
   "execution_count": null,
   "metadata": {},
   "outputs": [],
   "source": [
    "import seaborn as sns\n",
    "plt.figure(figsize=(30, 10))\n",
    "ax = sns.heatmap(difference_in_data_list[0] , annot = True)\n",
    "plt.title('Yearly of 30 companies of Open value', fontdict={'fontsize':20})\n",
    "plt.show()"
   ]
  },
  {
   "cell_type": "markdown",
   "metadata": {},
   "source": [
    "#### Heatmap of Close values"
   ]
  },
  {
   "cell_type": "code",
   "execution_count": null,
   "metadata": {},
   "outputs": [],
   "source": [
    "import seaborn as sns\n",
    "plt.figure(figsize=(30, 10))\n",
    "ax = sns.heatmap(difference_in_data_list[1] , annot = True)\n",
    "plt.title('Yearly of 30 companies of Close value', fontdict={'fontsize':20})\n",
    "plt.show()"
   ]
  },
  {
   "cell_type": "markdown",
   "metadata": {},
   "source": [
    "#### Heatmap of High values"
   ]
  },
  {
   "cell_type": "code",
   "execution_count": null,
   "metadata": {},
   "outputs": [],
   "source": [
    "import seaborn as sns\n",
    "plt.figure(figsize=(30, 10))\n",
    "ax = sns.heatmap(difference_in_data_list[2] , annot = True)\n",
    "plt.title('Yearly of 30 companies of High value', fontdict={'fontsize':20})\n",
    "plt.show()"
   ]
  },
  {
   "cell_type": "markdown",
   "metadata": {},
   "source": [
    "#### Heatmap of Low values"
   ]
  },
  {
   "cell_type": "code",
   "execution_count": null,
   "metadata": {},
   "outputs": [],
   "source": [
    "import seaborn as sns\n",
    "plt.figure(figsize=(30, 10))\n",
    "ax = sns.heatmap(difference_in_data_list[3] , annot = True)\n",
    "plt.title('Yearly of 30 companies of Low value', fontdict={'fontsize':20})\n",
    "plt.show()"
   ]
  },
  {
   "cell_type": "markdown",
   "metadata": {},
   "source": [
    "#### Heatmap of Volume values"
   ]
  },
  {
   "cell_type": "code",
   "execution_count": null,
   "metadata": {},
   "outputs": [],
   "source": [
    "import seaborn as sns\n",
    "plt.figure(figsize=(30, 10))\n",
    "ax = sns.heatmap(difference_in_data_list[5] , annot = True)\n",
    "plt.title('Yearly of 30 companies of Volume value', fontdict={'fontsize':20})\n",
    "plt.show()"
   ]
  },
  {
   "cell_type": "markdown",
   "metadata": {},
   "source": [
    "### Exploring correlaltion among data\n",
    "Here, we will explore correlation among data using correlation matrix then we will plot that on heatmap."
   ]
  },
  {
   "cell_type": "markdown",
   "metadata": {},
   "source": [
    "#### Correlation plot for open values"
   ]
  },
  {
   "cell_type": "code",
   "execution_count": null,
   "metadata": {},
   "outputs": [],
   "source": [
    "corrmat = eod_list[0].corr()\n",
    "corrmat2 = yfinance_list[0].corr()\n",
    "plt.figure(figsize=(30,10))\n",
    "f, ax = plt.subplots(1, 2)\n",
    "sns.heatmap(corrmat, ax = ax[0], cmap =\"YlGnBu\", linewidths = 0.1).set(title='EOD correlation matrix for open values.')\n",
    "sns.heatmap(corrmat, ax = ax[1], cmap =\"YlGnBu\", linewidths = 0.1).set(title='Yfinance correlation matrix for open values.')"
   ]
  },
  {
   "cell_type": "markdown",
   "metadata": {},
   "source": [
    "#### Correlation plot for close values"
   ]
  },
  {
   "cell_type": "code",
   "execution_count": null,
   "metadata": {},
   "outputs": [],
   "source": [
    "corrmat = eod_list[1].corr()\n",
    "corrmat2 = yfinance_list[1].corr()\n",
    "plt.figure(figsize=(30,10))\n",
    "f, ax = plt.subplots(1, 2)\n",
    "sns.heatmap(corrmat, ax = ax[0], cmap =\"YlGnBu\", linewidths = 0.1).set(title='EOD correlation matrix for close values.')\n",
    "sns.heatmap(corrmat, ax = ax[1], cmap =\"YlGnBu\", linewidths = 0.1).set(title='Yfinance correlation matrix for close values.')"
   ]
  },
  {
   "cell_type": "markdown",
   "metadata": {},
   "source": [
    "#### Correlation plot for high values"
   ]
  },
  {
   "cell_type": "code",
   "execution_count": null,
   "metadata": {},
   "outputs": [],
   "source": [
    "corrmat = eod_list[2].corr()\n",
    "corrmat2 = yfinance_list[2].corr()\n",
    "plt.figure(figsize=(30,10))\n",
    "f, ax = plt.subplots(1, 2)\n",
    "sns.heatmap(corrmat, ax = ax[0], cmap =\"YlGnBu\", linewidths = 0.1).set(title='EOD correlation matrix for high values.')\n",
    "sns.heatmap(corrmat, ax = ax[1], cmap =\"YlGnBu\", linewidths = 0.1).set(title='Yfinance correlation matrix for high values.')"
   ]
  },
  {
   "cell_type": "markdown",
   "metadata": {},
   "source": [
    "#### Correlation plot for low values"
   ]
  },
  {
   "cell_type": "code",
   "execution_count": null,
   "metadata": {},
   "outputs": [],
   "source": [
    "corrmat = eod_list[3].corr()\n",
    "corrmat2 = yfinance_list[3].corr()\n",
    "plt.figure(figsize=(30,10))\n",
    "f, ax = plt.subplots(1, 2)\n",
    "sns.heatmap(corrmat, ax = ax[0], cmap =\"YlGnBu\", linewidths = 0.1).set(title='EOD correlation matrix for low values.')\n",
    "sns.heatmap(corrmat, ax = ax[1], cmap =\"YlGnBu\", linewidths = 0.1).set(title='Yfinance correlation matrix for low values.')"
   ]
  },
  {
   "cell_type": "markdown",
   "metadata": {},
   "source": [
    "#### Correlation plot for volume values"
   ]
  },
  {
   "cell_type": "code",
   "execution_count": null,
   "metadata": {},
   "outputs": [],
   "source": [
    "corrmat = eod_list[4].corr()\n",
    "corrmat2 = yfinance_list[4].corr()\n",
    "plt.figure(figsize=(10,30))\n",
    "f, ax = plt.subplots(1,2)\n",
    "sns.heatmap(corrmat, ax = ax[0], cmap =\"YlGnBu\", linewidths = 0.1).set(title='EOD correlation matrix for volume values.')\n",
    "sns.heatmap(corrmat, ax = ax[1], cmap =\"YlGnBu\", linewidths = 0.1).set(title='Yfinance correlation matrix for volume values.')"
   ]
  },
  {
   "cell_type": "markdown",
   "metadata": {},
   "source": [
    "### Histplot\n",
    "Plotting the count of NAN values of yearly calculated data of each field of different sources."
   ]
  },
  {
   "cell_type": "markdown",
   "metadata": {},
   "source": [
    "#### Open values"
   ]
  },
  {
   "cell_type": "code",
   "execution_count": null,
   "metadata": {},
   "outputs": [],
   "source": [
    "df = yfinance_list[0].isna().sum()\n",
    "df = pd.DataFrame(df)\n",
    "df1 = eod_list[0].isna().sum()\n",
    "df1 = pd.DataFrame(df1)\n",
    "\n",
    "# 2 subplots in 1 row and 2 columns\n",
    "fig, (ax1, ax2) = plt.subplots(1, 2, figsize=(16, 5))\n",
    "  \n",
    "x1 = df.index\n",
    "\n",
    "fig.suptitle('Count of NAN values in yearly calculated data of Volume values of 30 comapnies.', fontsize=20)\n",
    "  \n",
    "# Creating the sub-plots.\n",
    "l1 = ax1.hist(df, color=\"green\", bins=30)\n",
    "l2 = ax2.hist(df1, color=\"blue\", bins=30)\n",
    "  \n",
    "ax1.set_yticks(np.arange(0, 10, 1))\n",
    "ax1.set_xticks(np.arange(0, 30, 1), x1, rotation='vertical')\n",
    "ax2.set_yticks(np.arange(0, 10, 1))\n",
    "ax2.set_xticks(np.arange(0, 30, 1), x1, rotation='vertical')\n",
    "  \n",
    "ax1.set_ylabel('Count of NAN values', fontsize=20)\n",
    "ax1.set_xlabel('Company Names', fontsize=25)\n",
    "ax2.set_ylabel('Count of NAN values', fontsize=20)\n",
    "ax2.set_xlabel('Company Names', fontsize=25)\n",
    "  \n",
    "labels = [\"Yfinance\", \"EOD\"]\n",
    "fig.legend([l1, l2], labels=labels, loc=\"upper right\")\n",
    "  \n",
    "# Adjusting the sub-plots\n",
    "plt.subplots_adjust(right=1.0)\n",
    "  \n",
    "plt.show()"
   ]
  },
  {
   "cell_type": "markdown",
   "metadata": {},
   "source": [
    "####  Close Values"
   ]
  },
  {
   "cell_type": "code",
   "execution_count": null,
   "metadata": {},
   "outputs": [],
   "source": [
    "df3 = yfinance_list[1].isna().sum()\n",
    "df3 = pd.DataFrame(df3)\n",
    "df4 = eod_list[1].isna().sum()\n",
    "df4 = pd.DataFrame(df4)\n",
    "\n",
    "# 2 subplots in 1 row and 2 columns\n",
    "fig, (ax1, ax2) = plt.subplots(1, 2, figsize=(16, 5))\n",
    "  \n",
    "x1 = df.index\n",
    "\n",
    "fig.suptitle('Count of NAN values in yearly calculated data of Close values of 30 comapnies.', fontsize=20)\n",
    "  \n",
    "# Creating the sub-plots.\n",
    "l1 = ax1.hist(df3, color=\"green\", bins=30)\n",
    "l2 = ax2.hist(df4, color=\"blue\", bins=30)\n",
    "  \n",
    "ax1.set_yticks(np.arange(0, 10, 1))\n",
    "ax1.set_xticks(np.arange(0, 30, 1), x1, rotation='vertical')\n",
    "ax2.set_yticks(np.arange(0, 10, 1))\n",
    "ax2.set_xticks(np.arange(0, 30, 1), x1, rotation='vertical')\n",
    "  \n",
    "ax1.set_ylabel('Count of NAN values', fontsize=20)\n",
    "ax1.set_xlabel('Company Names', fontsize=25)\n",
    "ax2.set_ylabel('Count of NAN values', fontsize=20)\n",
    "ax2.set_xlabel('Company Names', fontsize=25)\n",
    "  \n",
    "labels = [\"Yfinance\", \"EOD\"]\n",
    "fig.legend([l1, l2], labels=labels, loc=\"upper right\")\n",
    "  \n",
    "# Adjusting the sub-plots\n",
    "plt.subplots_adjust(right=1.0)\n",
    "  \n",
    "plt.show()"
   ]
  },
  {
   "cell_type": "markdown",
   "metadata": {},
   "source": [
    "#### High Values"
   ]
  },
  {
   "cell_type": "code",
   "execution_count": null,
   "metadata": {},
   "outputs": [],
   "source": [
    "df5 = yfinance_list[2].isna().sum()\n",
    "df5 = pd.DataFrame(df5)\n",
    "df6 = eod_list[2].isna().sum()\n",
    "df6 = pd.DataFrame(df6)\n",
    "\n",
    "# 2 subplots in 1 row and 2 columns\n",
    "fig, (ax1, ax2) = plt.subplots(1, 2, figsize=(16, 5))\n",
    "  \n",
    "x1 = df.index\n",
    "\n",
    "fig.suptitle('Count of NAN values in yearly calculated data of Volume values of 30 comapnies.', fontsize=20)\n",
    "  \n",
    "# Creating the sub-plots.\n",
    "l1 = ax1.hist(df5, color=\"green\", bins=30)\n",
    "l2 = ax2.hist(df6, color=\"blue\", bins=30)\n",
    "  \n",
    "ax1.set_yticks(np.arange(0, 10, 1))\n",
    "ax1.set_xticks(np.arange(0, 30, 1), x1, rotation='vertical')\n",
    "ax2.set_yticks(np.arange(0, 10, 1))\n",
    "ax2.set_xticks(np.arange(0, 30, 1), x1, rotation='vertical')\n",
    "  \n",
    "ax1.set_ylabel('Count of NAN values', fontsize=20)\n",
    "ax1.set_xlabel('Company Names', fontsize=25)\n",
    "ax2.set_ylabel('Count of NAN values', fontsize=20)\n",
    "ax2.set_xlabel('Company Names', fontsize=25)\n",
    "  \n",
    "labels = [\"Yfinance\", \"EOD\"]\n",
    "fig.legend([l1, l2], labels=labels, loc=\"upper right\")\n",
    "  \n",
    "# Adjusting the sub-plots\n",
    "plt.subplots_adjust(right=1.0)\n",
    "  \n",
    "plt.show()"
   ]
  },
  {
   "cell_type": "markdown",
   "metadata": {},
   "source": [
    "#### Low Values"
   ]
  },
  {
   "cell_type": "code",
   "execution_count": null,
   "metadata": {},
   "outputs": [],
   "source": [
    "df7 = yfinance_list[3].isna().sum()\n",
    "df7 = pd.DataFrame(df7)\n",
    "df8 = eod_list[3].isna().sum()\n",
    "df8 = pd.DataFrame(df8)\n",
    "\n",
    "# 2 subplots in 1 row and 2 columns\n",
    "fig, (ax1, ax2) = plt.subplots(1, 2, figsize=(16, 5))\n",
    "  \n",
    "x1 = df.index\n",
    "\n",
    "fig.suptitle('Count of NAN values in yearly calculated data of Volume values of 30 comapnies.', fontsize=20)\n",
    "  \n",
    "# Creating the sub-plots.\n",
    "l1 = ax1.hist(df7, color=\"green\", bins=30)\n",
    "l2 = ax2.hist(df8, color=\"blue\", bins=30)\n",
    "  \n",
    "ax1.set_yticks(np.arange(0, 10, 1))\n",
    "ax1.set_xticks(np.arange(0, 30, 1), x1, rotation='vertical')\n",
    "ax2.set_yticks(np.arange(0, 10, 1))\n",
    "ax2.set_xticks(np.arange(0, 30, 1), x1, rotation='vertical')\n",
    "  \n",
    "ax1.set_ylabel('Count of NAN values', fontsize=20)\n",
    "ax1.set_xlabel('Company Names', fontsize=25)\n",
    "ax2.set_ylabel('Count of NAN values', fontsize=20)\n",
    "ax2.set_xlabel('Company Names', fontsize=25)\n",
    "  \n",
    "labels = [\"Yfinance\", \"EOD\"]\n",
    "fig.legend([l1, l2], labels=labels, loc=\"upper right\")\n",
    "  \n",
    "# Adjusting the sub-plots\n",
    "plt.subplots_adjust(right=1.0)\n",
    "  \n",
    "plt.show()"
   ]
  },
  {
   "cell_type": "markdown",
   "metadata": {},
   "source": [
    "#### Volume Values"
   ]
  },
  {
   "cell_type": "code",
   "execution_count": null,
   "metadata": {},
   "outputs": [],
   "source": [
    "df9 = yfinance_list[4].isna().sum()\n",
    "df9 = pd.DataFrame(df9)\n",
    "df10 = eod_list[4].isna().sum()\n",
    "df10 = pd.DataFrame(df10)\n",
    "\n",
    "# 2 subplots in 1 row and 2 columns\n",
    "fig, (ax1, ax2) = plt.subplots(1, 2, figsize=(16, 5))\n",
    "  \n",
    "x1 = df.index\n",
    "\n",
    "fig.suptitle('Count of NAN values in yearly calculated data of Volume values of 30 comapnies.', fontsize=20)\n",
    "  \n",
    "# Creating the sub-plots.\n",
    "l1 = ax1.hist(df9, color=\"green\", bins=30)\n",
    "l2 = ax2.hist(df10, color=\"blue\", bins=30)\n",
    "  \n",
    "ax1.set_yticks(np.arange(0, 10, 1))\n",
    "ax1.set_xticks(np.arange(0, 30, 1), x1, rotation='vertical')\n",
    "ax2.set_yticks(np.arange(0, 10, 1))\n",
    "ax2.set_xticks(np.arange(0, 30, 1), x1, rotation='vertical')\n",
    "  \n",
    "ax1.set_ylabel('Count of NAN values', fontsize=20)\n",
    "ax1.set_xlabel('Company Names', fontsize=25)\n",
    "ax2.set_ylabel('Count of NAN values', fontsize=20)\n",
    "ax2.set_xlabel('Company Names', fontsize=25)\n",
    "  \n",
    "labels = [\"Yfinance\", \"EOD\"]\n",
    "fig.legend([l1, l2], labels=labels, loc=\"upper right\")\n",
    "  \n",
    "# Adjusting the sub-plots\n",
    "plt.subplots_adjust(right=1.0)\n",
    "  \n",
    "plt.show()"
   ]
  },
  {
   "cell_type": "markdown",
   "metadata": {},
   "source": [
    "# Conclusion\n",
    "\n",
    "|yfinance|EODHistorical data|\n",
    "|:---:|:---:|\n",
    "|No missing values.|No missing values.|\n",
    "|Contains More NAN values for yearly calculated data.|Contains NAN values for yearly calculated data.|\n",
    "|No duplicate values|No duplicate values|\n",
    "|Contains more outliers in volume column.|Contains outliers in volume column.|\n",
    "\n",
    "**Eodhistorical data has slight higher values than yfinance data values.**"
   ]
  }
 ],
 "metadata": {
  "kernelspec": {
   "display_name": "Python 3.9.12 ('base')",
   "language": "python",
   "name": "python3"
  },
  "language_info": {
   "codemirror_mode": {
    "name": "ipython",
    "version": 3
   },
   "file_extension": ".py",
   "mimetype": "text/x-python",
   "name": "python",
   "nbconvert_exporter": "python",
   "pygments_lexer": "ipython3",
   "version": "3.9.12"
  },
  "orig_nbformat": 4,
  "vscode": {
   "interpreter": {
    "hash": "20a9e06a1eee47c4abbed4ec8225ad91d78d9800d202b71b6b0a6e47016c6abd"
   }
  }
 },
 "nbformat": 4,
 "nbformat_minor": 2
}
