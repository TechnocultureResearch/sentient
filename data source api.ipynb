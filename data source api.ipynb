{
 "cells": [
  {
   "cell_type": "markdown",
   "metadata": {},
   "source": [
    "These financial data are generally provided in a format that includes the following information:\n",
    "\n",
    "Date\n",
    "Open Price\n",
    "High Price\n",
    "Low Price\n",
    "Closing Price\n",
    "Volume\n",
    "These data—often referred to as OHLC Chart Data—can be interpreted as Time Series data and are perfect for performing technical analysis. We’ll dive into this format in just a moment but, for now, just realize this is a standard format for historical pricing data within financial markets."
   ]
  },
  {
   "cell_type": "markdown",
   "metadata": {},
   "source": [
    "yfinance: \n",
    "For this approach, we need to install the yfinance library as pip install yfinance. This library provides sample tools for working with financial data requests to the Yahoo Finance website. Keep in mind, however, this is not an official API and is subject to rate limiting, periodic breakage, and general quirkiness. Nonetheless, its the defacto Python library for OHLC data and can be used as follows:"
   ]
  },
  {
   "cell_type": "code",
   "execution_count": 10,
   "metadata": {},
   "outputs": [
    {
     "name": "stdout",
     "output_type": "stream",
     "text": [
      "Requirement already satisfied: yfinance in c:\\users\\lenovo\\appdata\\local\\programs\\python\\python39\\lib\\site-packages (0.1.74)\n",
      "Requirement already satisfied: requests>=2.26 in c:\\users\\lenovo\\appdata\\local\\programs\\python\\python39\\lib\\site-packages (from yfinance) (2.26.0)\n",
      "Requirement already satisfied: multitasking>=0.0.7 in c:\\users\\lenovo\\appdata\\local\\programs\\python\\python39\\lib\\site-packages (from yfinance) (0.0.11)\n",
      "Requirement already satisfied: pandas>=0.24.0 in c:\\users\\lenovo\\appdata\\local\\programs\\python\\python39\\lib\\site-packages (from yfinance) (1.4.3)\n",
      "Requirement already satisfied: numpy>=1.15 in c:\\users\\lenovo\\appdata\\local\\programs\\python\\python39\\lib\\site-packages (from yfinance) (1.22.3)\n",
      "Requirement already satisfied: lxml>=4.5.1 in c:\\users\\lenovo\\appdata\\local\\programs\\python\\python39\\lib\\site-packages (from yfinance) (4.6.3)\n",
      "Requirement already satisfied: pytz>=2020.1 in c:\\users\\lenovo\\appdata\\local\\programs\\python\\python39\\lib\\site-packages (from pandas>=0.24.0->yfinance) (2021.1)\n",
      "Requirement already satisfied: python-dateutil>=2.8.1 in c:\\users\\lenovo\\appdata\\local\\programs\\python\\python39\\lib\\site-packages (from pandas>=0.24.0->yfinance) (2.8.2)\n",
      "Requirement already satisfied: urllib3<1.27,>=1.21.1 in c:\\users\\lenovo\\appdata\\local\\programs\\python\\python39\\lib\\site-packages (from requests>=2.26->yfinance) (1.26.7)\n",
      "Requirement already satisfied: idna<4,>=2.5 in c:\\users\\lenovo\\appdata\\local\\programs\\python\\python39\\lib\\site-packages (from requests>=2.26->yfinance) (3.3)\n",
      "Requirement already satisfied: certifi>=2017.4.17 in c:\\users\\lenovo\\appdata\\local\\programs\\python\\python39\\lib\\site-packages (from requests>=2.26->yfinance) (2021.5.30)\n",
      "Requirement already satisfied: charset-normalizer~=2.0.0 in c:\\users\\lenovo\\appdata\\local\\programs\\python\\python39\\lib\\site-packages (from requests>=2.26->yfinance) (2.0.9)\n",
      "Requirement already satisfied: six>=1.5 in c:\\users\\lenovo\\appdata\\local\\programs\\python\\python39\\lib\\site-packages (from python-dateutil>=2.8.1->pandas>=0.24.0->yfinance) (1.16.0)\n",
      "Note: you may need to restart the kernel to use updated packages.\n"
     ]
    }
   ],
   "source": [
    "pip install yfinance"
   ]
  },
  {
   "cell_type": "code",
   "execution_count": 11,
   "metadata": {},
   "outputs": [
    {
     "ename": "KeyboardInterrupt",
     "evalue": "",
     "output_type": "error",
     "traceback": [
      "\u001b[1;31m---------------------------------------------------------------------------\u001b[0m",
      "\u001b[1;31mKeyboardInterrupt\u001b[0m                         Traceback (most recent call last)",
      "\u001b[1;32mc:\\Users\\Lenovo\\Desktop\\data source api.ipynb Cell 4\u001b[0m in \u001b[0;36m<cell line: 3>\u001b[1;34m()\u001b[0m\n\u001b[0;32m      <a href='vscode-notebook-cell:/c%3A/Users/Lenovo/Desktop/data%20source%20api.ipynb#W2sZmlsZQ%3D%3D?line=0'>1</a>\u001b[0m \u001b[39mimport\u001b[39;00m \u001b[39myfinance\u001b[39;00m \u001b[39mas\u001b[39;00m \u001b[39myf\u001b[39;00m\n\u001b[0;32m      <a href='vscode-notebook-cell:/c%3A/Users/Lenovo/Desktop/data%20source%20api.ipynb#W2sZmlsZQ%3D%3D?line=1'>2</a>\u001b[0m tick \u001b[39m=\u001b[39m [\u001b[39m'\u001b[39m\u001b[39mNVDA\u001b[39m\u001b[39m'\u001b[39m,\u001b[39m'\u001b[39m\u001b[39mMSFT\u001b[39m\u001b[39m'\u001b[39m,\u001b[39m'\u001b[39m\u001b[39mAAC\u001b[39m\u001b[39m'\u001b[39m,\u001b[39m'\u001b[39m\u001b[39mAACG\u001b[39m\u001b[39m'\u001b[39m, \u001b[39m'\u001b[39m\u001b[39mAACI\u001b[39m\u001b[39m'\u001b[39m,\u001b[39m'\u001b[39m\u001b[39mAACIW\u001b[39m\u001b[39m'\u001b[39m,\u001b[39m'\u001b[39m\u001b[39mAADI\u001b[39m\u001b[39m'\u001b[39m,\u001b[39m'\u001b[39m\u001b[39mAAIC\u001b[39m\u001b[39m'\u001b[39m,\u001b[39m'\u001b[39m\u001b[39mAAL\u001b[39m\u001b[39m'\u001b[39m,\u001b[39m'\u001b[39m\u001b[39mAAMC\u001b[39m\u001b[39m'\u001b[39m,\u001b[39m'\u001b[39m\u001b[39mAAME\u001b[39m\u001b[39m'\u001b[39m,\u001b[39m'\u001b[39m\u001b[39mAAN\u001b[39m\u001b[39m'\u001b[39m,\u001b[39m'\u001b[39m\u001b[39mAAOI\u001b[39m\u001b[39m'\u001b[39m,\u001b[39m'\u001b[39m\u001b[39mAAON\u001b[39m\u001b[39m'\u001b[39m,\u001b[39m'\u001b[39m\u001b[39mAAP\u001b[39m\u001b[39m'\u001b[39m,\u001b[39m'\u001b[39m\u001b[39mAAPL\u001b[39m\u001b[39m'\u001b[39m,\u001b[39m'\u001b[39m\u001b[39mAAQC\u001b[39m\u001b[39m'\u001b[39m,\u001b[39m'\u001b[39m\u001b[39mAAT\u001b[39m\u001b[39m'\u001b[39m,\u001b[39m'\u001b[39m\u001b[39mAATC\u001b[39m\u001b[39m'\u001b[39m,\u001b[39m'\u001b[39m\u001b[39mAAU\u001b[39m\u001b[39m'\u001b[39m,\u001b[39m'\u001b[39m\u001b[39mAAWW\u001b[39m\u001b[39m'\u001b[39m,\u001b[39m'\u001b[39m\u001b[39mAB\u001b[39m\u001b[39m'\u001b[39m,\u001b[39m'\u001b[39m\u001b[39mABB\u001b[39m\u001b[39m'\u001b[39m,\u001b[39m'\u001b[39m\u001b[39mABBV\u001b[39m\u001b[39m'\u001b[39m,\u001b[39m'\u001b[39m\u001b[39mABC\u001b[39m\u001b[39m'\u001b[39m]\n\u001b[1;32m----> <a href='vscode-notebook-cell:/c%3A/Users/Lenovo/Desktop/data%20source%20api.ipynb#W2sZmlsZQ%3D%3D?line=2'>3</a>\u001b[0m \u001b[39mfor\u001b[39;00m i \u001b[39min\u001b[39;00m tick:\n\u001b[0;32m      <a href='vscode-notebook-cell:/c%3A/Users/Lenovo/Desktop/data%20source%20api.ipynb#W2sZmlsZQ%3D%3D?line=3'>4</a>\u001b[0m     data \u001b[39m=\u001b[39m yf\u001b[39m.\u001b[39mTicker(i)\u001b[39m.\u001b[39mhistory(period\u001b[39m=\u001b[39m\u001b[39m'\u001b[39m\u001b[39m5y\u001b[39m\u001b[39m'\u001b[39m)\n\u001b[0;32m      <a href='vscode-notebook-cell:/c%3A/Users/Lenovo/Desktop/data%20source%20api.ipynb#W2sZmlsZQ%3D%3D?line=4'>5</a>\u001b[0m     data\u001b[39m.\u001b[39mto_csv(i\u001b[39m+\u001b[39m\u001b[39m\"\u001b[39m\u001b[39m.csv\u001b[39m\u001b[39m\"\u001b[39m)\n",
      "File \u001b[1;32mc:\\Users\\Lenovo\\AppData\\Local\\Programs\\Python\\Python39\\lib\\site-packages\\yfinance\\base.py:107\u001b[0m, in \u001b[0;36mTickerBase.history\u001b[1;34m(self, period, interval, start, end, prepost, actions, auto_adjust, back_adjust, proxy, rounding, tz, timeout, **kwargs)\u001b[0m\n\u001b[0;32m    104\u001b[0m     data \u001b[39m=\u001b[39m utils\u001b[39m.\u001b[39mget_json(ticker_url, proxy, \u001b[39mself\u001b[39m\u001b[39m.\u001b[39msession)\n\u001b[0;32m    105\u001b[0m     \u001b[39mreturn\u001b[39;00m data\n\u001b[1;32m--> 107\u001b[0m \u001b[39mdef\u001b[39;00m \u001b[39mhistory\u001b[39m(\u001b[39mself\u001b[39m, period\u001b[39m=\u001b[39m\u001b[39m\"\u001b[39m\u001b[39m1mo\u001b[39m\u001b[39m\"\u001b[39m, interval\u001b[39m=\u001b[39m\u001b[39m\"\u001b[39m\u001b[39m1d\u001b[39m\u001b[39m\"\u001b[39m,\n\u001b[0;32m    108\u001b[0m             start\u001b[39m=\u001b[39m\u001b[39mNone\u001b[39;00m, end\u001b[39m=\u001b[39m\u001b[39mNone\u001b[39;00m, prepost\u001b[39m=\u001b[39m\u001b[39mFalse\u001b[39;00m, actions\u001b[39m=\u001b[39m\u001b[39mTrue\u001b[39;00m,\n\u001b[0;32m    109\u001b[0m             auto_adjust\u001b[39m=\u001b[39m\u001b[39mTrue\u001b[39;00m, back_adjust\u001b[39m=\u001b[39m\u001b[39mFalse\u001b[39;00m,\n\u001b[0;32m    110\u001b[0m             proxy\u001b[39m=\u001b[39m\u001b[39mNone\u001b[39;00m, rounding\u001b[39m=\u001b[39m\u001b[39mFalse\u001b[39;00m, tz\u001b[39m=\u001b[39m\u001b[39mNone\u001b[39;00m, timeout\u001b[39m=\u001b[39m\u001b[39mNone\u001b[39;00m, \u001b[39m*\u001b[39m\u001b[39m*\u001b[39mkwargs):\n\u001b[0;32m    111\u001b[0m     \u001b[39m\"\"\"\u001b[39;00m\n\u001b[0;32m    112\u001b[0m \u001b[39m    :Parameters:\u001b[39;00m\n\u001b[0;32m    113\u001b[0m \u001b[39m        period : str\u001b[39;00m\n\u001b[1;32m   (...)\u001b[0m\n\u001b[0;32m    147\u001b[0m \u001b[39m                error message printing to console.\u001b[39;00m\n\u001b[0;32m    148\u001b[0m \u001b[39m    \"\"\"\u001b[39;00m\n\u001b[0;32m    150\u001b[0m     \u001b[39mif\u001b[39;00m start \u001b[39mor\u001b[39;00m period \u001b[39mis\u001b[39;00m \u001b[39mNone\u001b[39;00m \u001b[39mor\u001b[39;00m period\u001b[39m.\u001b[39mlower() \u001b[39m==\u001b[39m \u001b[39m\"\u001b[39m\u001b[39mmax\u001b[39m\u001b[39m\"\u001b[39m:\n",
      "File \u001b[1;32mc:\\Users\\Lenovo\\AppData\\Local\\Programs\\Python\\Python39\\lib\\site-packages\\pandas\\core\\indexes\\datetimes.py:266\u001b[0m, in \u001b[0;36mDatetimeIndex.tz_convert\u001b[1;34m(self, tz)\u001b[0m\n\u001b[0;32m    263\u001b[0m     arr \u001b[39m=\u001b[39m \u001b[39mself\u001b[39m\u001b[39m.\u001b[39m_data\u001b[39m.\u001b[39mstrftime(date_format)\n\u001b[0;32m    264\u001b[0m     \u001b[39mreturn\u001b[39;00m Index(arr, name\u001b[39m=\u001b[39m\u001b[39mself\u001b[39m\u001b[39m.\u001b[39mname)\n\u001b[1;32m--> 266\u001b[0m \u001b[39m@doc\u001b[39m(DatetimeArray\u001b[39m.\u001b[39mtz_convert)\n\u001b[0;32m    267\u001b[0m \u001b[39mdef\u001b[39;00m \u001b[39mtz_convert\u001b[39m(\u001b[39mself\u001b[39m, tz) \u001b[39m-\u001b[39m\u001b[39m>\u001b[39m DatetimeIndex:\n\u001b[0;32m    268\u001b[0m     arr \u001b[39m=\u001b[39m \u001b[39mself\u001b[39m\u001b[39m.\u001b[39m_data\u001b[39m.\u001b[39mtz_convert(tz)\n\u001b[0;32m    269\u001b[0m     \u001b[39mreturn\u001b[39;00m \u001b[39mtype\u001b[39m(\u001b[39mself\u001b[39m)\u001b[39m.\u001b[39m_simple_new(arr, name\u001b[39m=\u001b[39m\u001b[39mself\u001b[39m\u001b[39m.\u001b[39mname)\n",
      "File \u001b[1;32mc:\\Users\\Lenovo\\AppData\\Local\\Programs\\Python\\Python39\\lib\\site-packages\\pandas\\core\\arrays\\datetimes.py:806\u001b[0m, in \u001b[0;36mDatetimeArray.tz_convert\u001b[1;34m(self, tz)\u001b[0m\n\u001b[0;32m    803\u001b[0m         \u001b[39mreturn\u001b[39;00m \u001b[39mself\u001b[39m\u001b[39m.\u001b[39masi8\n\u001b[0;32m    804\u001b[0m     \u001b[39mreturn\u001b[39;00m tzconversion\u001b[39m.\u001b[39mtz_convert_from_utc(\u001b[39mself\u001b[39m\u001b[39m.\u001b[39masi8, \u001b[39mself\u001b[39m\u001b[39m.\u001b[39mtz)\n\u001b[1;32m--> 806\u001b[0m \u001b[39mdef\u001b[39;00m \u001b[39mtz_convert\u001b[39m(\u001b[39mself\u001b[39m, tz) \u001b[39m-\u001b[39m\u001b[39m>\u001b[39m DatetimeArray:\n\u001b[0;32m    807\u001b[0m     \u001b[39m\"\"\"\u001b[39;00m\n\u001b[0;32m    808\u001b[0m \u001b[39m    Convert tz-aware Datetime Array/Index from one time zone to another.\u001b[39;00m\n\u001b[0;32m    809\u001b[0m \n\u001b[1;32m   (...)\u001b[0m\n\u001b[0;32m    868\u001b[0m \u001b[39m                    dtype='datetime64[ns]', freq='H')\u001b[39;00m\n\u001b[0;32m    869\u001b[0m \u001b[39m    \"\"\"\u001b[39;00m\n\u001b[0;32m    870\u001b[0m     tz \u001b[39m=\u001b[39m timezones\u001b[39m.\u001b[39mmaybe_get_tz(tz)\n",
      "File \u001b[1;32mc:\\Users\\Lenovo\\AppData\\Local\\Programs\\Python\\Python39\\lib\\site-packages\\pandas\\_libs\\tslibs\\timezones.pyx:111\u001b[0m, in \u001b[0;36mpandas._libs.tslibs.timezones.maybe_get_tz\u001b[1;34m()\u001b[0m\n",
      "File \u001b[1;32mc:\\Users\\Lenovo\\AppData\\Local\\Programs\\Python\\Python39\\lib\\site-packages\\pandas\\_libs\\tslibs\\timezones.pyx:134\u001b[0m, in \u001b[0;36mpandas._libs.tslibs.timezones.maybe_get_tz\u001b[1;34m()\u001b[0m\n",
      "File \u001b[1;32mc:\\Users\\Lenovo\\AppData\\Local\\Programs\\Python\\Python39\\lib\\site-packages\\pytz\\__init__.py:130\u001b[0m, in \u001b[0;36mtimezone\u001b[1;34m(zone)\u001b[0m\n\u001b[0;32m    124\u001b[0m         \u001b[39mreturn\u001b[39;00m \u001b[39mFalse\u001b[39;00m\n\u001b[0;32m    127\u001b[0m _tzinfo_cache \u001b[39m=\u001b[39m {}\n\u001b[1;32m--> 130\u001b[0m \u001b[39mdef\u001b[39;00m \u001b[39mtimezone\u001b[39m(zone):\n\u001b[0;32m    131\u001b[0m     \u001b[39mr\u001b[39m\u001b[39m''' Return a datetime.tzinfo implementation for the given timezone\u001b[39;00m\n\u001b[0;32m    132\u001b[0m \n\u001b[0;32m    133\u001b[0m \u001b[39m    >>> from datetime import datetime, timedelta\u001b[39;00m\n\u001b[1;32m   (...)\u001b[0m\n\u001b[0;32m    165\u001b[0m \n\u001b[0;32m    166\u001b[0m \u001b[39m    '''\u001b[39;00m\n\u001b[0;32m    167\u001b[0m     \u001b[39mif\u001b[39;00m zone \u001b[39mis\u001b[39;00m \u001b[39mNone\u001b[39;00m:\n",
      "File \u001b[1;32mc:\\Users\\Lenovo\\AppData\\Local\\Programs\\Python\\Python39\\lib\\site-packages\\pytz\\__init__.py:201\u001b[0m, in \u001b[0;36m_case_insensitive_zone_lookup\u001b[1;34m(zone)\u001b[0m\n\u001b[0;32m    195\u001b[0m     \u001b[39mreturn\u001b[39;00m zone\u001b[39m.\u001b[39mreplace(\u001b[39m'\u001b[39m\u001b[39m_plus_\u001b[39m\u001b[39m'\u001b[39m, \u001b[39m'\u001b[39m\u001b[39m+\u001b[39m\u001b[39m'\u001b[39m)\u001b[39m.\u001b[39mreplace(\u001b[39m'\u001b[39m\u001b[39m_minus_\u001b[39m\u001b[39m'\u001b[39m, \u001b[39m'\u001b[39m\u001b[39m-\u001b[39m\u001b[39m'\u001b[39m)\n\u001b[0;32m    198\u001b[0m _all_timezones_lower_to_standard \u001b[39m=\u001b[39m \u001b[39mNone\u001b[39;00m\n\u001b[1;32m--> 201\u001b[0m \u001b[39mdef\u001b[39;00m \u001b[39m_case_insensitive_zone_lookup\u001b[39m(zone):\n\u001b[0;32m    202\u001b[0m     \u001b[39m\"\"\"case-insensitively matching timezone, else return zone unchanged\"\"\"\u001b[39;00m\n\u001b[0;32m    203\u001b[0m     \u001b[39mglobal\u001b[39;00m _all_timezones_lower_to_standard\n",
      "File \u001b[1;32mc:\\Users\\Lenovo\\AppData\\Local\\Programs\\Python\\Python39\\lib\\site-packages\\pytz\\lazy.py:97\u001b[0m, in \u001b[0;36mLazyList.__new__.<locals>.lazy.<locals>._lazy\u001b[1;34m(self, *args, **kw)\u001b[0m\n\u001b[0;32m     96\u001b[0m \u001b[39mdef\u001b[39;00m \u001b[39mlazy\u001b[39m(name):\n\u001b[1;32m---> 97\u001b[0m     \u001b[39mdef\u001b[39;00m \u001b[39m_lazy\u001b[39m(\u001b[39mself\u001b[39m, \u001b[39m*\u001b[39margs, \u001b[39m*\u001b[39m\u001b[39m*\u001b[39mkw):\n\u001b[0;32m     98\u001b[0m         _fill_lock\u001b[39m.\u001b[39macquire()\n\u001b[0;32m     99\u001b[0m         \u001b[39mtry\u001b[39;00m:\n",
      "File \u001b[1;32mc:\\Users\\Lenovo\\AppData\\Local\\Programs\\Python\\Python39\\lib\\site-packages\\pytz\\__init__.py:1111\u001b[0m, in \u001b[0;36m<genexpr>\u001b[1;34m(.0)\u001b[0m\n\u001b[0;32m    516\u001b[0m     _test()\n\u001b[0;32m    517\u001b[0m all_timezones \u001b[39m=\u001b[39m \\\n\u001b[0;32m    518\u001b[0m [\u001b[39m'\u001b[39m\u001b[39mAfrica/Abidjan\u001b[39m\u001b[39m'\u001b[39m,\n\u001b[0;32m    519\u001b[0m  \u001b[39m'\u001b[39m\u001b[39mAfrica/Accra\u001b[39m\u001b[39m'\u001b[39m,\n\u001b[1;32m   (...)\u001b[0m\n\u001b[0;32m   1109\u001b[0m  \u001b[39m'\u001b[39m\u001b[39mWET\u001b[39m\u001b[39m'\u001b[39m,\n\u001b[0;32m   1110\u001b[0m  \u001b[39m'\u001b[39m\u001b[39mZulu\u001b[39m\u001b[39m'\u001b[39m]\n\u001b[1;32m-> 1111\u001b[0m all_timezones \u001b[39m=\u001b[39m LazyList(\n\u001b[0;32m   1112\u001b[0m         tz \u001b[39mfor\u001b[39;00m tz \u001b[39min\u001b[39;00m all_timezones \u001b[39mif\u001b[39;00m resource_exists(tz))\n\u001b[0;32m   1114\u001b[0m all_timezones_set \u001b[39m=\u001b[39m LazySet(all_timezones)\n\u001b[0;32m   1115\u001b[0m common_timezones \u001b[39m=\u001b[39m \\\n\u001b[0;32m   1116\u001b[0m [\u001b[39m'\u001b[39m\u001b[39mAfrica/Abidjan\u001b[39m\u001b[39m'\u001b[39m,\n\u001b[0;32m   1117\u001b[0m  \u001b[39m'\u001b[39m\u001b[39mAfrica/Accra\u001b[39m\u001b[39m'\u001b[39m,\n\u001b[1;32m   (...)\u001b[0m\n\u001b[0;32m   1553\u001b[0m  \u001b[39m'\u001b[39m\u001b[39mUS/Pacific\u001b[39m\u001b[39m'\u001b[39m,\n\u001b[0;32m   1554\u001b[0m  \u001b[39m'\u001b[39m\u001b[39mUTC\u001b[39m\u001b[39m'\u001b[39m]\n",
      "File \u001b[1;32mc:\\Users\\Lenovo\\AppData\\Local\\Programs\\Python\\Python39\\lib\\site-packages\\pytz\\__init__.py:111\u001b[0m, in \u001b[0;36mresource_exists\u001b[1;34m(name)\u001b[0m\n\u001b[0;32m    107\u001b[0m                 \u001b[39mreturn\u001b[39;00m resource_stream(\u001b[39m__name__\u001b[39m, \u001b[39m'\u001b[39m\u001b[39mzoneinfo/\u001b[39m\u001b[39m'\u001b[39m \u001b[39m+\u001b[39m name)\n\u001b[0;32m    108\u001b[0m     \u001b[39mreturn\u001b[39;00m \u001b[39mopen\u001b[39m(filename, \u001b[39m'\u001b[39m\u001b[39mrb\u001b[39m\u001b[39m'\u001b[39m)\n\u001b[1;32m--> 111\u001b[0m \u001b[39mdef\u001b[39;00m \u001b[39mresource_exists\u001b[39m(name):\n\u001b[0;32m    112\u001b[0m     \u001b[39m\"\"\"Return true if the given resource exists\"\"\"\u001b[39;00m\n\u001b[0;32m    113\u001b[0m     \u001b[39mtry\u001b[39;00m:\n",
      "File \u001b[1;32mc:\\Users\\Lenovo\\AppData\\Local\\Programs\\Python\\Python39\\lib\\site-packages\\pytz\\__init__.py:78\u001b[0m, in \u001b[0;36mopen_resource\u001b[1;34m(name)\u001b[0m\n\u001b[0;32m     65\u001b[0m         \u001b[39mr\u001b[39m\u001b[39m\"\"\"\u001b[39;00m\n\u001b[0;32m     66\u001b[0m \u001b[39m        >>> ascii('Hello')\u001b[39;00m\n\u001b[0;32m     67\u001b[0m \u001b[39m        'Hello'\u001b[39;00m\n\u001b[1;32m   (...)\u001b[0m\n\u001b[0;32m     73\u001b[0m \u001b[39m        UnicodeEncodeError: ...\u001b[39;00m\n\u001b[0;32m     74\u001b[0m \u001b[39m        \"\"\"\u001b[39;00m\n\u001b[0;32m     75\u001b[0m         \u001b[39mreturn\u001b[39;00m s\u001b[39m.\u001b[39mencode(\u001b[39m'\u001b[39m\u001b[39mASCII\u001b[39m\u001b[39m'\u001b[39m)\n\u001b[1;32m---> 78\u001b[0m \u001b[39mdef\u001b[39;00m \u001b[39mopen_resource\u001b[39m(name):\n\u001b[0;32m     79\u001b[0m     \u001b[39m\"\"\"Open a resource from the zoneinfo subdir for reading.\u001b[39;00m\n\u001b[0;32m     80\u001b[0m \n\u001b[0;32m     81\u001b[0m \u001b[39m    Uses the pkg_resources module if available and no standard file\u001b[39;00m\n\u001b[1;32m   (...)\u001b[0m\n\u001b[0;32m     85\u001b[0m \u001b[39m    subdir by using the PYTZ_TZDATADIR environment variable.\u001b[39;00m\n\u001b[0;32m     86\u001b[0m \u001b[39m    \"\"\"\u001b[39;00m\n\u001b[0;32m     87\u001b[0m     name_parts \u001b[39m=\u001b[39m name\u001b[39m.\u001b[39mlstrip(\u001b[39m'\u001b[39m\u001b[39m/\u001b[39m\u001b[39m'\u001b[39m)\u001b[39m.\u001b[39msplit(\u001b[39m'\u001b[39m\u001b[39m/\u001b[39m\u001b[39m'\u001b[39m)\n",
      "\u001b[1;31mKeyboardInterrupt\u001b[0m: "
     ]
    }
   ],
   "source": [
    "import yfinance as yf\n",
    "tick = ['NVDA','MSFT','AAC','AACG', 'AACI','AACIW','AADI','AAIC','AAL','AAMC','AAME','AAN','AAOI','AAON','AAP','AAPL','AAQC','AAT','AATC','AAU','AAWW','AB','ABB','ABBV','ABC']\n",
    "for i in tick:\n",
    "    data = yf.Ticker(i).history(period='5y')\n",
    "    data.to_csv(i+\".csv\")"
   ]
  },
  {
   "cell_type": "markdown",
   "metadata": {},
   "source": [
    "Quandl:\n",
    "Quandl offers official APIs to access any public dataset for free. Here we’ll see how to get OHLC data via the official Quandl python library and also via the pandas-datareader. One important note is that the free Quandl OHLC data only goes up to 2018 at the time of this article’s writing. If you need more recent data and don’t want to pay this source isn’t for you.\n",
    "\n",
    "Quandl Python Library\n",
    "To get started with Quadl’s official API we need to install the python library as such: pip install quandl. This will install the official quandl python library and let us make up to 50 daily API requests without registering an account. Let’s get our financial data:"
   ]
  },
  {
   "cell_type": "code",
   "execution_count": null,
   "metadata": {},
   "outputs": [
    {
     "name": "stdout",
     "output_type": "stream",
     "text": [
      "Collecting quandl\n",
      "  Downloading Quandl-3.7.0-py2.py3-none-any.whl (26 kB)\n",
      "Requirement already satisfied: python-dateutil in c:\\users\\lenovo\\appdata\\local\\programs\\python\\python39\\lib\\site-packages (from quandl) (2.8.2)\n",
      "Requirement already satisfied: requests>=2.7.0 in c:\\users\\lenovo\\appdata\\local\\programs\\python\\python39\\lib\\site-packages (from quandl) (2.26.0)\n",
      "Requirement already satisfied: pandas>=0.14 in c:\\users\\lenovo\\appdata\\local\\programs\\python\\python39\\lib\\site-packages (from quandl) (1.4.3)\n",
      "Requirement already satisfied: numpy>=1.8 in c:\\users\\lenovo\\appdata\\local\\programs\\python\\python39\\lib\\site-packages (from quandl) (1.22.3)\n",
      "Collecting inflection>=0.3.1\n",
      "  Downloading inflection-0.5.1-py2.py3-none-any.whl (9.5 kB)\n",
      "Requirement already satisfied: six in c:\\users\\lenovo\\appdata\\local\\programs\\python\\python39\\lib\\site-packages (from quandl) (1.16.0)\n",
      "Collecting more-itertools\n",
      "  Downloading more_itertools-8.14.0-py3-none-any.whl (52 kB)\n",
      "     -------------------------------------- 52.2/52.2 kB 676.7 kB/s eta 0:00:00\n",
      "Requirement already satisfied: pytz>=2020.1 in c:\\users\\lenovo\\appdata\\local\\programs\\python\\python39\\lib\\site-packages (from pandas>=0.14->quandl) (2021.1)\n",
      "Requirement already satisfied: certifi>=2017.4.17 in c:\\users\\lenovo\\appdata\\local\\programs\\python\\python39\\lib\\site-packages (from requests>=2.7.0->quandl) (2021.5.30)\n",
      "Requirement already satisfied: charset-normalizer~=2.0.0 in c:\\users\\lenovo\\appdata\\local\\programs\\python\\python39\\lib\\site-packages (from requests>=2.7.0->quandl) (2.0.9)\n",
      "Requirement already satisfied: urllib3<1.27,>=1.21.1 in c:\\users\\lenovo\\appdata\\local\\programs\\python\\python39\\lib\\site-packages (from requests>=2.7.0->quandl) (1.26.7)\n",
      "Requirement already satisfied: idna<4,>=2.5 in c:\\users\\lenovo\\appdata\\local\\programs\\python\\python39\\lib\\site-packages (from requests>=2.7.0->quandl) (3.3)\n",
      "Installing collected packages: more-itertools, inflection, quandl\n",
      "Successfully installed inflection-0.5.1 more-itertools-8.14.0 quandl-3.7.0\n",
      "Note: you may need to restart the kernel to use updated packages.\n"
     ]
    }
   ],
   "source": [
    "pip install quandl"
   ]
  },
  {
   "cell_type": "code",
   "execution_count": null,
   "metadata": {},
   "outputs": [
    {
     "name": "stdout",
     "output_type": "stream",
     "text": [
      "after 10 sec\n"
     ]
    },
    {
     "ename": "KeyboardInterrupt",
     "evalue": "",
     "output_type": "error",
     "traceback": [
      "\u001b[1;31m---------------------------------------------------------------------------\u001b[0m",
      "\u001b[1;31mKeyboardInterrupt\u001b[0m                         Traceback (most recent call last)",
      "\u001b[1;32mc:\\Users\\Lenovo\\Desktop\\data source api.ipynb Cell 7\u001b[0m in \u001b[0;36m<cell line: 6>\u001b[1;34m()\u001b[0m\n\u001b[0;32m      <a href='vscode-notebook-cell:/c%3A/Users/Lenovo/Desktop/data%20source%20api.ipynb#W5sZmlsZQ%3D%3D?line=8'>9</a>\u001b[0m data \u001b[39m=\u001b[39m quandl\u001b[39m.\u001b[39mget(\u001b[39m'\u001b[39m\u001b[39mWIKI/NVDA\u001b[39m\u001b[39m'\u001b[39m)\n\u001b[0;32m     <a href='vscode-notebook-cell:/c%3A/Users/Lenovo/Desktop/data%20source%20api.ipynb#W5sZmlsZQ%3D%3D?line=9'>10</a>\u001b[0m data\u001b[39m.\u001b[39mto_csv(i\u001b[39m+\u001b[39m\u001b[39m\"\u001b[39m\u001b[39m.csv\u001b[39m\u001b[39m\"\u001b[39m)\n\u001b[1;32m---> <a href='vscode-notebook-cell:/c%3A/Users/Lenovo/Desktop/data%20source%20api.ipynb#W5sZmlsZQ%3D%3D?line=10'>11</a>\u001b[0m time\u001b[39m.\u001b[39;49msleep(\u001b[39m10\u001b[39;49m)\n\u001b[0;32m     <a href='vscode-notebook-cell:/c%3A/Users/Lenovo/Desktop/data%20source%20api.ipynb#W5sZmlsZQ%3D%3D?line=11'>12</a>\u001b[0m \u001b[39mprint\u001b[39m(\u001b[39m\"\u001b[39m\u001b[39mafter 10 sec\u001b[39m\u001b[39m\"\u001b[39m)\n",
      "\u001b[1;31mKeyboardInterrupt\u001b[0m: "
     ]
    }
   ],
   "source": [
    "import quandl\n",
    "import time\n",
    "tick = ['NVDA','MSFT','AAC','AACG', 'AACI','AACIW','AADI','AAIC','AAL','AAMC','AAME','AAN','AAOI','AAON','AAP','AAPL','AAQC','AAT','AATC','AAU','AAWW','AB','ABB','ABBV','ABC']\n",
    "# Get data via Quandl API\n",
    "j=0\n",
    "for i in tick:\n",
    "    j+=1\n",
    "    k=1\n",
    "    if j>2*k+1:\n",
    "        time.sleep(600)\n",
    "        k+=20\n",
    "    data = quandl.get('WIKI/NVDA')\n",
    "    data.to_csv(i+\".csv\")\n",
    "\n"
   ]
  },
  {
   "cell_type": "markdown",
   "metadata": {},
   "source": [
    "Alpha Vantage:\n",
    "The pandas-datareader library offers easy access to OHLC data via Alpha Vantage integration. The following code will retrieve historical data for different tickers once again:"
   ]
  },
  {
   "cell_type": "code",
   "execution_count": null,
   "metadata": {},
   "outputs": [
    {
     "name": "stdout",
     "output_type": "stream",
     "text": [
      "Collecting alpha_vantage\n",
      "  Downloading alpha_vantage-2.3.1-py3-none-any.whl (31 kB)\n",
      "Requirement already satisfied: requests in c:\\users\\lenovo\\appdata\\local\\programs\\python\\python39\\lib\\site-packages (from alpha_vantage) (2.26.0)\n",
      "Collecting aiohttp\n",
      "  Downloading aiohttp-3.8.1-cp39-cp39-win_amd64.whl (554 kB)\n",
      "     -------------------------------------- 554.9/554.9 kB 2.7 MB/s eta 0:00:00\n",
      "Collecting async-timeout<5.0,>=4.0.0a3\n",
      "  Downloading async_timeout-4.0.2-py3-none-any.whl (5.8 kB)\n",
      "Collecting frozenlist>=1.1.1\n",
      "  Downloading frozenlist-1.3.1-cp39-cp39-win_amd64.whl (34 kB)\n",
      "Collecting aiosignal>=1.1.2\n",
      "  Downloading aiosignal-1.2.0-py3-none-any.whl (8.2 kB)\n",
      "Requirement already satisfied: attrs>=17.3.0 in c:\\users\\lenovo\\appdata\\local\\programs\\python\\python39\\lib\\site-packages (from aiohttp->alpha_vantage) (22.1.0)\n",
      "Requirement already satisfied: charset-normalizer<3.0,>=2.0 in c:\\users\\lenovo\\appdata\\local\\programs\\python\\python39\\lib\\site-packages (from aiohttp->alpha_vantage) (2.0.9)\n",
      "Collecting multidict<7.0,>=4.5\n",
      "  Downloading multidict-6.0.2-cp39-cp39-win_amd64.whl (28 kB)\n",
      "Collecting yarl<2.0,>=1.0\n",
      "  Downloading yarl-1.8.1-cp39-cp39-win_amd64.whl (56 kB)\n",
      "     -------------------------------------- 56.7/56.7 kB 329.4 kB/s eta 0:00:00\n",
      "Requirement already satisfied: urllib3<1.27,>=1.21.1 in c:\\users\\lenovo\\appdata\\local\\programs\\python\\python39\\lib\\site-packages (from requests->alpha_vantage) (1.26.7)\n",
      "Requirement already satisfied: certifi>=2017.4.17 in c:\\users\\lenovo\\appdata\\local\\programs\\python\\python39\\lib\\site-packages (from requests->alpha_vantage) (2021.5.30)\n",
      "Requirement already satisfied: idna<4,>=2.5 in c:\\users\\lenovo\\appdata\\local\\programs\\python\\python39\\lib\\site-packages (from requests->alpha_vantage) (3.3)\n",
      "Installing collected packages: multidict, frozenlist, async-timeout, yarl, aiosignal, aiohttp, alpha_vantage\n",
      "Successfully installed aiohttp-3.8.1 aiosignal-1.2.0 alpha_vantage-2.3.1 async-timeout-4.0.2 frozenlist-1.3.1 multidict-6.0.2 yarl-1.8.1\n",
      "Note: you may need to restart the kernel to use updated packages.\n"
     ]
    }
   ],
   "source": [
    "pip install alpha_vantage"
   ]
  },
  {
   "cell_type": "code",
   "execution_count": null,
   "metadata": {},
   "outputs": [],
   "source": [
    "from alpha_vantage.timeseries import TimeSeries\n",
    "import pandas as pd\n",
    "# Create an API object\n",
    "ts = TimeSeries(key='UNO4CZQHSBZSN71N')\n",
    "# Get daily OHLC data for NVDA\n",
    "data, meta_data = ts.get_daily(symbol=\"NVDA\")\n",
    "data_df = pd.DataFrame(data)\n",
    "data_df.to_csv(\"NVDA.csv\", header=False)"
   ]
  },
  {
   "cell_type": "markdown",
   "metadata": {},
   "source": [
    "Alpha Vantage:\n",
    "TIME_SERIES_DAILY_ADJUSTED Premium Trending\n",
    "\n",
    "This API returns raw (as-traded) daily open/high/low/close/volume values, daily adjusted close values, and historical split/dividend events of the global equity specified, covering 20+ years of historical data.\n",
    "\n",
    "\n",
    "API Parameters\n",
    "❚ Required: function\n",
    "\n",
    "The time series of your choice. In this case, function=TIME_SERIES_DAILY_ADJUSTED\n",
    "\n",
    "❚ Required: symbol\n",
    "\n",
    "The name of the equity of your choice. For example: symbol=IBM\n",
    "\n",
    "❚ Optional: outputsize\n",
    "\n",
    "By default, outputsize=compact. Strings compact and full are accepted with the following specifications: compact returns only the latest 100 data points; full returns the full-length time series of 20+ years of historical data. The \"compact\" option is recommended if you would like to reduce the data size of each API call.\n",
    "\n",
    "❚ Optional: datatype\n",
    "\n",
    "By default, datatype=json. Strings json and csv are accepted with the following specifications: json returns the daily time series in JSON format; csv returns the time series as a CSV (comma separated value) file.\n",
    "\n",
    "❚ Required: apikey\n",
    "\n",
    "Your API key\n"
   ]
  },
  {
   "cell_type": "code",
   "execution_count": null,
   "metadata": {},
   "outputs": [
    {
     "name": "stdout",
     "output_type": "stream",
     "text": [
      "{'Information': 'Thank you for using Alpha Vantage! This is a premium endpoint. You may subscribe to any of the premium plans at https://www.alphavantage.co/premium/ to instantly unlock all premium endpoints'}\n"
     ]
    }
   ],
   "source": [
    "import requests\n",
    "\n",
    "# replace the \"demo\" apikey below with your own key from https://www.alphavantage.co/support/#api-key\n",
    "url = 'https://www.alphavantage.co/query?function=TIME_SERIES_DAILY_ADJUSTED&symbol=IBM&apikey=1NSFEG3NTR9VZZOF'\n",
    "r = requests.get(url)\n",
    "data = r.json()\n",
    "\n",
    "print(data)"
   ]
  },
  {
   "cell_type": "markdown",
   "metadata": {},
   "source": [
    "Zerodha-historical-data-download :\n",
    "This contains code to download historical data for more than 2000 days and intraday data for more than 100 days. Download the framework and customize accordingly.\n",
    "\n",
    "The changes you need to make.\n",
    "\n",
    "Set your working directory where you want your data to be downloaded.\n",
    "\n",
    "Enter your API key.\n",
    "\n",
    "Enter youy API secret.\n",
    "\n",
    "Generate request_token.\n",
    "\n",
    "Set the Access token.\n",
    "\n",
    "In the 'tickers' variable write all the stock names you want(write the names exactly as in zerodha app).\n",
    "\n",
    "in the fetchOHLC func, enter the number of days.\n",
    "\n",
    "Note: If you want F&O data, change the instruments('NSE') to instruments('NFO')."
   ]
  },
  {
   "cell_type": "code",
   "execution_count": null,
   "metadata": {},
   "outputs": [],
   "source": [
    "!pip install kiteconnect --upgrade --quiet"
   ]
  },
  {
   "cell_type": "code",
   "execution_count": null,
   "metadata": {},
   "outputs": [
    {
     "ename": "TokenException",
     "evalue": "Token is invalid or has expired.",
     "output_type": "error",
     "traceback": [
      "\u001b[1;31m---------------------------------------------------------------------------\u001b[0m",
      "\u001b[1;31mTokenException\u001b[0m                            Traceback (most recent call last)",
      "\u001b[1;32mc:\\Users\\Lenovo\\Desktop\\data source api.ipynb Cell 13\u001b[0m in \u001b[0;36m<cell line: 18>\u001b[1;34m()\u001b[0m\n\u001b[0;32m     <a href='vscode-notebook-cell:/c%3A/Users/Lenovo/Desktop/data%20source%20api.ipynb#X20sZmlsZQ%3D%3D?line=14'>15</a>\u001b[0m url \u001b[39m=\u001b[39m kite\u001b[39m.\u001b[39mlogin_url()\n\u001b[0;32m     <a href='vscode-notebook-cell:/c%3A/Users/Lenovo/Desktop/data%20source%20api.ipynb#X20sZmlsZQ%3D%3D?line=16'>17</a>\u001b[0m request_token \u001b[39m=\u001b[39m \u001b[39m'\u001b[39m\u001b[39myour_request_token\u001b[39m\u001b[39m'\u001b[39m\n\u001b[1;32m---> <a href='vscode-notebook-cell:/c%3A/Users/Lenovo/Desktop/data%20source%20api.ipynb#X20sZmlsZQ%3D%3D?line=17'>18</a>\u001b[0m session \u001b[39m=\u001b[39m kite\u001b[39m.\u001b[39;49mgenerate_session(request_token, api_secret)\n\u001b[0;32m     <a href='vscode-notebook-cell:/c%3A/Users/Lenovo/Desktop/data%20source%20api.ipynb#X20sZmlsZQ%3D%3D?line=18'>19</a>\u001b[0m access_token \u001b[39m=\u001b[39m session[\u001b[39m'\u001b[39m\u001b[39maccess_token\u001b[39m\u001b[39m'\u001b[39m]\n\u001b[0;32m     <a href='vscode-notebook-cell:/c%3A/Users/Lenovo/Desktop/data%20source%20api.ipynb#X20sZmlsZQ%3D%3D?line=19'>20</a>\u001b[0m kite\u001b[39m.\u001b[39mset_access_token(access_token)\n",
      "File \u001b[1;32mc:\\Users\\Lenovo\\AppData\\Local\\Programs\\Python\\Python39\\lib\\site-packages\\kiteconnect\\connect.py:260\u001b[0m, in \u001b[0;36mKiteConnect.generate_session\u001b[1;34m(self, request_token, api_secret)\u001b[0m\n\u001b[0;32m    257\u001b[0m h \u001b[39m=\u001b[39m hashlib\u001b[39m.\u001b[39msha256(\u001b[39mself\u001b[39m\u001b[39m.\u001b[39mapi_key\u001b[39m.\u001b[39mencode(\u001b[39m\"\u001b[39m\u001b[39mutf-8\u001b[39m\u001b[39m\"\u001b[39m) \u001b[39m+\u001b[39m request_token\u001b[39m.\u001b[39mencode(\u001b[39m\"\u001b[39m\u001b[39mutf-8\u001b[39m\u001b[39m\"\u001b[39m) \u001b[39m+\u001b[39m api_secret\u001b[39m.\u001b[39mencode(\u001b[39m\"\u001b[39m\u001b[39mutf-8\u001b[39m\u001b[39m\"\u001b[39m))\n\u001b[0;32m    258\u001b[0m checksum \u001b[39m=\u001b[39m h\u001b[39m.\u001b[39mhexdigest()\n\u001b[1;32m--> 260\u001b[0m resp \u001b[39m=\u001b[39m \u001b[39mself\u001b[39;49m\u001b[39m.\u001b[39;49m_post(\u001b[39m\"\u001b[39;49m\u001b[39mapi.token\u001b[39;49m\u001b[39m\"\u001b[39;49m, params\u001b[39m=\u001b[39;49m{\n\u001b[0;32m    261\u001b[0m     \u001b[39m\"\u001b[39;49m\u001b[39mapi_key\u001b[39;49m\u001b[39m\"\u001b[39;49m: \u001b[39mself\u001b[39;49m\u001b[39m.\u001b[39;49mapi_key,\n\u001b[0;32m    262\u001b[0m     \u001b[39m\"\u001b[39;49m\u001b[39mrequest_token\u001b[39;49m\u001b[39m\"\u001b[39;49m: request_token,\n\u001b[0;32m    263\u001b[0m     \u001b[39m\"\u001b[39;49m\u001b[39mchecksum\u001b[39;49m\u001b[39m\"\u001b[39;49m: checksum\n\u001b[0;32m    264\u001b[0m })\n\u001b[0;32m    266\u001b[0m \u001b[39mif\u001b[39;00m \u001b[39m\"\u001b[39m\u001b[39maccess_token\u001b[39m\u001b[39m\"\u001b[39m \u001b[39min\u001b[39;00m resp:\n\u001b[0;32m    267\u001b[0m     \u001b[39mself\u001b[39m\u001b[39m.\u001b[39mset_access_token(resp[\u001b[39m\"\u001b[39m\u001b[39maccess_token\u001b[39m\u001b[39m\"\u001b[39m])\n",
      "File \u001b[1;32mc:\\Users\\Lenovo\\AppData\\Local\\Programs\\Python\\Python39\\lib\\site-packages\\kiteconnect\\connect.py:846\u001b[0m, in \u001b[0;36mKiteConnect._post\u001b[1;34m(self, route, url_args, params, is_json, query_params)\u001b[0m\n\u001b[0;32m    844\u001b[0m \u001b[39mdef\u001b[39;00m \u001b[39m_post\u001b[39m(\u001b[39mself\u001b[39m, route, url_args\u001b[39m=\u001b[39m\u001b[39mNone\u001b[39;00m, params\u001b[39m=\u001b[39m\u001b[39mNone\u001b[39;00m, is_json\u001b[39m=\u001b[39m\u001b[39mFalse\u001b[39;00m, query_params\u001b[39m=\u001b[39m\u001b[39mNone\u001b[39;00m):\n\u001b[0;32m    845\u001b[0m     \u001b[39m\"\"\"Alias for sending a POST request.\"\"\"\u001b[39;00m\n\u001b[1;32m--> 846\u001b[0m     \u001b[39mreturn\u001b[39;00m \u001b[39mself\u001b[39;49m\u001b[39m.\u001b[39;49m_request(route, \u001b[39m\"\u001b[39;49m\u001b[39mPOST\u001b[39;49m\u001b[39m\"\u001b[39;49m, url_args\u001b[39m=\u001b[39;49murl_args, params\u001b[39m=\u001b[39;49mparams, is_json\u001b[39m=\u001b[39;49mis_json, query_params\u001b[39m=\u001b[39;49mquery_params)\n",
      "File \u001b[1;32mc:\\Users\\Lenovo\\AppData\\Local\\Programs\\Python\\Python39\\lib\\site-packages\\kiteconnect\\connect.py:918\u001b[0m, in \u001b[0;36mKiteConnect._request\u001b[1;34m(self, route, method, url_args, params, is_json, query_params)\u001b[0m\n\u001b[0;32m    916\u001b[0m         \u001b[39m# native Kite errors\u001b[39;00m\n\u001b[0;32m    917\u001b[0m         exp \u001b[39m=\u001b[39m \u001b[39mgetattr\u001b[39m(ex, data\u001b[39m.\u001b[39mget(\u001b[39m\"\u001b[39m\u001b[39merror_type\u001b[39m\u001b[39m\"\u001b[39m), ex\u001b[39m.\u001b[39mGeneralException)\n\u001b[1;32m--> 918\u001b[0m         \u001b[39mraise\u001b[39;00m exp(data[\u001b[39m\"\u001b[39m\u001b[39mmessage\u001b[39m\u001b[39m\"\u001b[39m], code\u001b[39m=\u001b[39mr\u001b[39m.\u001b[39mstatus_code)\n\u001b[0;32m    920\u001b[0m     \u001b[39mreturn\u001b[39;00m data[\u001b[39m\"\u001b[39m\u001b[39mdata\u001b[39m\u001b[39m\"\u001b[39m]\n\u001b[0;32m    921\u001b[0m \u001b[39melif\u001b[39;00m \u001b[39m\"\u001b[39m\u001b[39mcsv\u001b[39m\u001b[39m\"\u001b[39m \u001b[39min\u001b[39;00m r\u001b[39m.\u001b[39mheaders[\u001b[39m\"\u001b[39m\u001b[39mcontent-type\u001b[39m\u001b[39m\"\u001b[39m]:\n",
      "\u001b[1;31mTokenException\u001b[0m: Token is invalid or has expired."
     ]
    }
   ],
   "source": [
    "from kiteconnect import KiteConnect, KiteTicker\n",
    "import pandas as pd\n",
    "import datetime as dt\n",
    "import numpy as np\n",
    "import os\n",
    "import time\n",
    "import json\n",
    "\n",
    "\n",
    "\n",
    "api_key = 'your_api_key'\n",
    "api_secret = 'your_api_secret'\n",
    "\n",
    "kite = KiteConnect(api_key)\n",
    "url = kite.login_url()\n",
    "\n",
    "request_token = 'your_request_token'\n",
    "session = kite.generate_session(request_token, api_secret)\n",
    "access_token = session['access_token']\n",
    "kite.set_access_token(access_token)\n",
    "\n",
    "instruments = pd.DataFrame(kite.instruments('NSE'))\n",
    "\n",
    "\n",
    "def lookup(df, symbol):\n",
    "    try:\n",
    "        return df[df.tradingsymbol==symbol].instrument_token.values[0]\n",
    "    except:\n",
    "        return -1\n",
    "\n",
    "def fetchandstoreOHLC(symbol,duration,tf):\n",
    "    nodata=[]\n",
    "    try:\n",
    "        if not os.path.isfile(symbol+'.csv'):\n",
    "            data = pd.DataFrame()\n",
    "            instrument_token = lookup(instruments, symbol)  \n",
    "            if duration>100:\n",
    "                no_of_hundreds = duration//100\n",
    "                start = 100\n",
    "                end = 0\n",
    "                for i in range(no_of_hundreds):\n",
    "                    df = pd.DataFrame(kite.historical_data(instrument_token, from_date = dt.datetime.today()-dt.timedelta(start), \n",
    "                    to_date = dt.datetime.today()-dt.timedelta(end), interval = tf))\n",
    "                    data = data.append(df)\n",
    "                    start+=100\n",
    "                    end+=100\n",
    "                dur1 = duration%100\n",
    "                df1 = pd.DataFrame(kite.historical_data(instrument_token, from_date = dt.datetime.today()-dt.timedelta(duration), \n",
    "                                      to_date = dt.datetime.today()-dt.timedelta(duration-dur1), interval = tf))\n",
    "                data = data.append(df1)\n",
    "            else:\n",
    "                df2 = pd.DataFrame(kite.historical_data(instrument_token, from_date = dt.datetime.today()-dt.timedelta(duration), \n",
    "                                      to_date = dt.datetime.today(), interval = tf))\n",
    "                data = data.append(df2)\n",
    "            data.set_index(\"date\", inplace = True)\n",
    "            data.sort_index(ascending= True,inplace = True)\n",
    "            print('Storing {} days data for {}'.format(duration, symbol))\n",
    "            data.to_csv(symbol+'.csv')\n",
    "        else:\n",
    "            print('Data already available for{}'.format(symbol))\n",
    "            return\n",
    "    except:\n",
    "        print(\"skipping for {}\".format(symbol))\n",
    "        nodata.append(symbol)\n",
    "    \n",
    "tickers = ['HDFCBANK','ICICIBANK','KOTAKBANK', 'AXISBANK', 'SBIN', 'RELIANCE','TCS','INFY','HINDUNILVR','HDFC','BAJFINANCE','WIPRO','BHARTIARTL','HCLTECH','ASIANPAINT','ITC','LT','ULTRACEMCO',\n",
    "           'MARUTI','SUNPHARMA','TATASTEEL','JSWSTEEL','TITAN','ADANIPORTS','ONGC','HDFCLIFE','TECHM','DIVISLAB','POWERGRID','SBILIFE','NTPC','BAJAJ-AUTO','BPCL','IOC','M&M','SHREECEM','HINDALCO',\n",
    "           'GRASIM','BRITANNIA','TATAMOTORS','COALINDIA','TATACONSUM','INDUSINDBK','DRREDDY','CIPLA','EICHERMOT','UPL','NESTLEIND','HEROMOTOCO','NIFTY 50','NIFTY BANK']\n",
    "\n",
    "\n",
    "for ticker in tickers:\n",
    "    fetchandstoreOHLC(ticker, 1095, '5minute')\n"
   ]
  },
  {
   "cell_type": "markdown",
   "metadata": {},
   "source": [
    "Angel One:\n",
    "SMARTAPI-PYTHON is a Python library for dealing AMX,that is a set of REST-like HTTP APIs that expose many capabilities required to build stock market investment and trading platforms. It lets you execute orders in real time.\n"
   ]
  },
  {
   "cell_type": "code",
   "execution_count": null,
   "metadata": {},
   "outputs": [],
   "source": [
    "!pip install smartapi-python --quiet"
   ]
  },
  {
   "cell_type": "code",
   "execution_count": null,
   "metadata": {},
   "outputs": [
    {
     "ename": "ModuleNotFoundError",
     "evalue": "No module named 'smartapi'",
     "output_type": "error",
     "traceback": [
      "\u001b[1;31m---------------------------------------------------------------------------\u001b[0m",
      "\u001b[1;31mModuleNotFoundError\u001b[0m                       Traceback (most recent call last)",
      "\u001b[1;32mc:\\Users\\Lenovo\\Desktop\\data source api.ipynb Cell 16\u001b[0m in \u001b[0;36m<cell line: 1>\u001b[1;34m()\u001b[0m\n\u001b[1;32m----> <a href='vscode-notebook-cell:/c%3A/Users/Lenovo/Desktop/data%20source%20api.ipynb#X22sZmlsZQ%3D%3D?line=0'>1</a>\u001b[0m \u001b[39mfrom\u001b[39;00m \u001b[39msmartapi\u001b[39;00m\u001b[39m.\u001b[39;00m\u001b[39msmartConnect\u001b[39;00m \u001b[39mimport\u001b[39;00m SmartConnect\n\u001b[0;32m      <a href='vscode-notebook-cell:/c%3A/Users/Lenovo/Desktop/data%20source%20api.ipynb#X22sZmlsZQ%3D%3D?line=1'>2</a>\u001b[0m \u001b[39mimport\u001b[39;00m \u001b[39mpandas\u001b[39;00m \u001b[39mas\u001b[39;00m \u001b[39mpd\u001b[39;00m\n\u001b[0;32m      <a href='vscode-notebook-cell:/c%3A/Users/Lenovo/Desktop/data%20source%20api.ipynb#X22sZmlsZQ%3D%3D?line=2'>3</a>\u001b[0m \u001b[39mimport\u001b[39;00m \u001b[39mrequests\u001b[39;00m\n",
      "\u001b[1;31mModuleNotFoundError\u001b[0m: No module named 'smartapi'"
     ]
    }
   ],
   "source": [
    "from smartapi.smartConnect import SmartConnect\n",
    "import pandas as pd\n",
    "import requests\n",
    "feed_token = None\n",
    "\n",
    "obj = SmartConnect(api_key=\"api_key\")\n",
    "data = obj.generateSession(\"username\", \"password\")\n",
    "refreshToken=data['data']['refreshToken']\n",
    "\n",
    "#fetch the feedtoken\n",
    "feedToken = obj.getfeedToken()\n",
    "feed_token = feedToken\n",
    "#fetch User Profile\n",
    "userProfile = obj.getProfile((refreshToken))\n",
    "print(userProfile)\n",
    "\n",
    "#historic api\n",
    "def OHLCHistory(symbol, token, interval, fdate, todate):\n",
    "    try:\n",
    "        historicParam={\n",
    "            \"exchange\":\"NSE\",\n",
    "            \"tradingsymbol\":symbol,\n",
    "            \"symboltoken\":token,\n",
    "            \"interval\":interval,\n",
    "            \"fromdate\":fdate,\n",
    "            \"todate\":todate\n",
    "        }\n",
    "        history = obj.getCandleData(historicParam)['data']\n",
    "        history = pd.DataFrame(history)\n",
    "\n",
    "        history = history.rename(\n",
    "            columns={0: \"DateTime\", 1: \"open\", 2: \"high\", 3: \"low\", 4: \"close\", 5:\"Volumne\"}\n",
    "        )\n",
    "        history['DateTime']=pd.to_datetime(history['DataTime'])\n",
    "        history=history.set_index('DateTime')\n",
    "        return history\n",
    "    except Exception as e:\n",
    "        print(\"Histpric api failed: {}\".format(e))\n",
    "data = OHLCHistory(\"SBIN-EQ\", \"3045\", \"ONE_DAY\", \"2020-02-08 00:00\", \"2021-02-08 15:30\")\n",
    "data_df = pd.DataFrame(data)\n",
    "data_df.to_csv(r'{}.csv'.format(\"SBIN_EQ\"), index=True, header=False)"
   ]
  }
 ],
 "metadata": {
  "kernelspec": {
   "display_name": "Python 3.9.6 64-bit",
   "language": "python",
   "name": "python3"
  },
  "language_info": {
   "codemirror_mode": {
    "name": "ipython",
    "version": 3
   },
   "file_extension": ".py",
   "mimetype": "text/x-python",
   "name": "python",
   "nbconvert_exporter": "python",
   "pygments_lexer": "ipython3",
   "version": "3.9.6"
  },
  "orig_nbformat": 4,
  "vscode": {
   "interpreter": {
    "hash": "8f8cf99212f81ad0c4765861267244807ee1c18364846cdce387b28994a977ba"
   }
  }
 },
 "nbformat": 4,
 "nbformat_minor": 2
}
