{
 "cells": [
  {
   "cell_type": "markdown",
   "metadata": {},
   "source": [
    "These financial data are generally provided in a format that includes the following information:\n",
    "\n",
    "Date\n",
    "Open Price\n",
    "High Price\n",
    "Low Price\n",
    "Closing Price\n",
    "Volume\n",
    "These data—often referred to as OHLC Chart Data—can be interpreted as Time Series data and are perfect for performing technical analysis. We’ll dive into this format in just a moment but, for now, just realize this is a standard format for historical pricing data within financial markets."
   ]
  },
  {
   "cell_type": "markdown",
   "metadata": {},
   "source": [
    "yfinance: \n",
    "For this approach, we need to install the yfinance library as pip install yfinance. This library provides sample tools for working with financial data requests to the Yahoo Finance website. Keep in mind, however, this is not an official API and is subject to rate limiting, periodic breakage, and general quirkiness. Nonetheless, its the defacto Python library for OHLC data and can be used as follows:"
   ]
  },
  {
   "cell_type": "code",
   "execution_count": null,
   "metadata": {},
   "outputs": [],
   "source": [
    "pip install yfinance"
   ]
  },
  {
   "cell_type": "code",
   "execution_count": 6,
   "metadata": {},
   "outputs": [
    {
     "name": "stdout",
     "output_type": "stream",
     "text": [
      "- AAIC^B: No data found, symbol may be delisted\n",
      "- AAIC^C: No data found, symbol may be delisted\n",
      "- AAM^A: No data found, symbol may be delisted\n",
      "- AAM^B: No data found, symbol may be delisted\n"
     ]
    }
   ],
   "source": [
    "import yfinance as yf\n",
    "tick = ['NVDA','MSFT','AAC','AACG', 'AACI','AACIW','AADI','AAIC','AAL','AAMC','AAME','AAN','AAOI','AAON','AAP','AAPL','AAQC','AAT','AATC','AAU','AAWW','AB','ABB','ABBV','ABC']\n",
    "for i in tick:\n",
    "    data = yf.Ticker(i).history(period='5y')\n",
    "    data.to_csv(i+\".csv\")"
   ]
  },
  {
   "cell_type": "markdown",
   "metadata": {},
   "source": [
    "Quandl:\n",
    "Quandl offers official APIs to access any public dataset for free. Here we’ll see how to get OHLC data via the official Quandl python library and also via the pandas-datareader. One important note is that the free Quandl OHLC data only goes up to 2018 at the time of this article’s writing. If you need more recent data and don’t want to pay this source isn’t for you.\n",
    "\n",
    "Quandl Python Library\n",
    "To get started with Quadl’s official API we need to install the python library as such: pip install quandl. This will install the official quandl python library and let us make up to 50 daily API requests without registering an account. Let’s get our financial data:"
   ]
  },
  {
   "cell_type": "code",
   "execution_count": 7,
   "metadata": {},
   "outputs": [
    {
     "name": "stdout",
     "output_type": "stream",
     "text": [
      "Collecting quandl\n",
      "  Downloading Quandl-3.7.0-py2.py3-none-any.whl (26 kB)\n",
      "Requirement already satisfied: python-dateutil in c:\\users\\lenovo\\appdata\\local\\programs\\python\\python39\\lib\\site-packages (from quandl) (2.8.2)\n",
      "Requirement already satisfied: requests>=2.7.0 in c:\\users\\lenovo\\appdata\\local\\programs\\python\\python39\\lib\\site-packages (from quandl) (2.26.0)\n",
      "Requirement already satisfied: pandas>=0.14 in c:\\users\\lenovo\\appdata\\local\\programs\\python\\python39\\lib\\site-packages (from quandl) (1.4.3)\n",
      "Requirement already satisfied: numpy>=1.8 in c:\\users\\lenovo\\appdata\\local\\programs\\python\\python39\\lib\\site-packages (from quandl) (1.22.3)\n",
      "Collecting inflection>=0.3.1\n",
      "  Downloading inflection-0.5.1-py2.py3-none-any.whl (9.5 kB)\n",
      "Requirement already satisfied: six in c:\\users\\lenovo\\appdata\\local\\programs\\python\\python39\\lib\\site-packages (from quandl) (1.16.0)\n",
      "Collecting more-itertools\n",
      "  Downloading more_itertools-8.14.0-py3-none-any.whl (52 kB)\n",
      "     -------------------------------------- 52.2/52.2 kB 676.7 kB/s eta 0:00:00\n",
      "Requirement already satisfied: pytz>=2020.1 in c:\\users\\lenovo\\appdata\\local\\programs\\python\\python39\\lib\\site-packages (from pandas>=0.14->quandl) (2021.1)\n",
      "Requirement already satisfied: certifi>=2017.4.17 in c:\\users\\lenovo\\appdata\\local\\programs\\python\\python39\\lib\\site-packages (from requests>=2.7.0->quandl) (2021.5.30)\n",
      "Requirement already satisfied: charset-normalizer~=2.0.0 in c:\\users\\lenovo\\appdata\\local\\programs\\python\\python39\\lib\\site-packages (from requests>=2.7.0->quandl) (2.0.9)\n",
      "Requirement already satisfied: urllib3<1.27,>=1.21.1 in c:\\users\\lenovo\\appdata\\local\\programs\\python\\python39\\lib\\site-packages (from requests>=2.7.0->quandl) (1.26.7)\n",
      "Requirement already satisfied: idna<4,>=2.5 in c:\\users\\lenovo\\appdata\\local\\programs\\python\\python39\\lib\\site-packages (from requests>=2.7.0->quandl) (3.3)\n",
      "Installing collected packages: more-itertools, inflection, quandl\n",
      "Successfully installed inflection-0.5.1 more-itertools-8.14.0 quandl-3.7.0\n",
      "Note: you may need to restart the kernel to use updated packages.\n"
     ]
    }
   ],
   "source": [
    "pip install quandl"
   ]
  },
  {
   "cell_type": "code",
   "execution_count": 1,
   "metadata": {},
   "outputs": [
    {
     "name": "stdout",
     "output_type": "stream",
     "text": [
      "after 10 sec\n"
     ]
    },
    {
     "ename": "KeyboardInterrupt",
     "evalue": "",
     "output_type": "error",
     "traceback": [
      "\u001b[1;31m---------------------------------------------------------------------------\u001b[0m",
      "\u001b[1;31mKeyboardInterrupt\u001b[0m                         Traceback (most recent call last)",
      "\u001b[1;32mc:\\Users\\Lenovo\\Desktop\\data source api.ipynb Cell 7\u001b[0m in \u001b[0;36m<cell line: 6>\u001b[1;34m()\u001b[0m\n\u001b[0;32m      <a href='vscode-notebook-cell:/c%3A/Users/Lenovo/Desktop/data%20source%20api.ipynb#W5sZmlsZQ%3D%3D?line=8'>9</a>\u001b[0m data \u001b[39m=\u001b[39m quandl\u001b[39m.\u001b[39mget(\u001b[39m'\u001b[39m\u001b[39mWIKI/NVDA\u001b[39m\u001b[39m'\u001b[39m)\n\u001b[0;32m     <a href='vscode-notebook-cell:/c%3A/Users/Lenovo/Desktop/data%20source%20api.ipynb#W5sZmlsZQ%3D%3D?line=9'>10</a>\u001b[0m data\u001b[39m.\u001b[39mto_csv(i\u001b[39m+\u001b[39m\u001b[39m\"\u001b[39m\u001b[39m.csv\u001b[39m\u001b[39m\"\u001b[39m)\n\u001b[1;32m---> <a href='vscode-notebook-cell:/c%3A/Users/Lenovo/Desktop/data%20source%20api.ipynb#W5sZmlsZQ%3D%3D?line=10'>11</a>\u001b[0m time\u001b[39m.\u001b[39;49msleep(\u001b[39m10\u001b[39;49m)\n\u001b[0;32m     <a href='vscode-notebook-cell:/c%3A/Users/Lenovo/Desktop/data%20source%20api.ipynb#W5sZmlsZQ%3D%3D?line=11'>12</a>\u001b[0m \u001b[39mprint\u001b[39m(\u001b[39m\"\u001b[39m\u001b[39mafter 10 sec\u001b[39m\u001b[39m\"\u001b[39m)\n",
      "\u001b[1;31mKeyboardInterrupt\u001b[0m: "
     ]
    }
   ],
   "source": [
    "import quandl\n",
    "import time\n",
    "tick = ['NVDA','MSFT','AAC','AACG', 'AACI','AACIW','AADI','AAIC','AAL','AAMC','AAME','AAN','AAOI','AAON','AAP','AAPL','AAQC','AAT','AATC','AAU','AAWW','AB','ABB','ABBV','ABC']\n",
    "# Get data via Quandl API\n",
    "j=0\n",
    "for i in tick:\n",
    "    j+=1\n",
    "    k=1\n",
    "    if j>2*k+1:\n",
    "        time.sleep(600)\n",
    "        k+=20\n",
    "    data = quandl.get('WIKI/NVDA')\n",
    "    data.to_csv(i+\".csv\")\n",
    "\n"
   ]
  },
  {
   "cell_type": "markdown",
   "metadata": {},
   "source": [
    "Alpha Vantage:\n",
    "The pandas-datareader library offers easy access to OHLC data via Alpha Vantage integration. The following code will retrieve historical data for different tickers once again:"
   ]
  },
  {
   "cell_type": "code",
   "execution_count": 10,
   "metadata": {},
   "outputs": [
    {
     "name": "stdout",
     "output_type": "stream",
     "text": [
      "Collecting pandas_datareader\n",
      "  Downloading pandas_datareader-0.10.0-py3-none-any.whl (109 kB)\n",
      "     ------------------------------------- 109.5/109.5 kB 96.2 kB/s eta 0:00:00\n",
      "Requirement already satisfied: requests>=2.19.0 in c:\\users\\lenovo\\appdata\\local\\programs\\python\\python39\\lib\\site-packages (from pandas_datareader) (2.26.0)\n",
      "Requirement already satisfied: pandas>=0.23 in c:\\users\\lenovo\\appdata\\local\\programs\\python\\python39\\lib\\site-packages (from pandas_datareader) (1.4.3)\n",
      "Requirement already satisfied: lxml in c:\\users\\lenovo\\appdata\\local\\programs\\python\\python39\\lib\\site-packages (from pandas_datareader) (4.6.3)\n",
      "Requirement already satisfied: numpy>=1.18.5 in c:\\users\\lenovo\\appdata\\local\\programs\\python\\python39\\lib\\site-packages (from pandas>=0.23->pandas_datareader) (1.22.3)\n",
      "Requirement already satisfied: python-dateutil>=2.8.1 in c:\\users\\lenovo\\appdata\\local\\programs\\python\\python39\\lib\\site-packages (from pandas>=0.23->pandas_datareader) (2.8.2)\n",
      "Requirement already satisfied: pytz>=2020.1 in c:\\users\\lenovo\\appdata\\local\\programs\\python\\python39\\lib\\site-packages (from pandas>=0.23->pandas_datareader) (2021.1)\n",
      "Requirement already satisfied: urllib3<1.27,>=1.21.1 in c:\\users\\lenovo\\appdata\\local\\programs\\python\\python39\\lib\\site-packages (from requests>=2.19.0->pandas_datareader) (1.26.7)\n",
      "Requirement already satisfied: charset-normalizer~=2.0.0 in c:\\users\\lenovo\\appdata\\local\\programs\\python\\python39\\lib\\site-packages (from requests>=2.19.0->pandas_datareader) (2.0.9)\n",
      "Requirement already satisfied: idna<4,>=2.5 in c:\\users\\lenovo\\appdata\\local\\programs\\python\\python39\\lib\\site-packages (from requests>=2.19.0->pandas_datareader) (3.3)\n",
      "Requirement already satisfied: certifi>=2017.4.17 in c:\\users\\lenovo\\appdata\\local\\programs\\python\\python39\\lib\\site-packages (from requests>=2.19.0->pandas_datareader) (2021.5.30)\n",
      "Requirement already satisfied: six>=1.5 in c:\\users\\lenovo\\appdata\\local\\programs\\python\\python39\\lib\\site-packages (from python-dateutil>=2.8.1->pandas>=0.23->pandas_datareader) (1.16.0)\n",
      "Installing collected packages: pandas_datareader\n",
      "Successfully installed pandas_datareader-0.10.0\n",
      "Note: you may need to restart the kernel to use updated packages.\n"
     ]
    }
   ],
   "source": [
    "pip install pandas_datareader"
   ]
  },
  {
   "cell_type": "code",
   "execution_count": 2,
   "metadata": {},
   "outputs": [
    {
     "ename": "RemoteDataError",
     "evalue": " Their was an issue from the data vendor side, here is their response: {'Note': 'Thank you for using Alpha Vantage! Our standard API call frequency is 5 calls per minute and 500 calls per day. Please visit https://www.alphavantage.co/premium/ if you would like to target a higher API call frequency.'}",
     "output_type": "error",
     "traceback": [
      "\u001b[1;31m---------------------------------------------------------------------------\u001b[0m",
      "\u001b[1;31mKeyError\u001b[0m                                  Traceback (most recent call last)",
      "File \u001b[1;32mc:\\Users\\Lenovo\\AppData\\Local\\Programs\\Python\\Python39\\lib\\site-packages\\pandas_datareader\\av\\__init__.py:72\u001b[0m, in \u001b[0;36mAlphaVantage._read_lines\u001b[1;34m(self, out)\u001b[0m\n\u001b[0;32m     71\u001b[0m \u001b[39mtry\u001b[39;00m:\n\u001b[1;32m---> 72\u001b[0m     df \u001b[39m=\u001b[39m pd\u001b[39m.\u001b[39mDataFrame\u001b[39m.\u001b[39mfrom_dict(out[\u001b[39mself\u001b[39;49m\u001b[39m.\u001b[39;49mdata_key], orient\u001b[39m=\u001b[39m\u001b[39m\"\u001b[39m\u001b[39mindex\u001b[39m\u001b[39m\"\u001b[39m)\n\u001b[0;32m     73\u001b[0m \u001b[39mexcept\u001b[39;00m \u001b[39mKeyError\u001b[39;00m:\n",
      "\u001b[1;31mKeyError\u001b[0m: 'Time Series (Daily)'",
      "\nDuring handling of the above exception, another exception occurred:\n",
      "\u001b[1;31mRemoteDataError\u001b[0m                           Traceback (most recent call last)",
      "\u001b[1;32mc:\\Users\\Lenovo\\Desktop\\data source api.ipynb Cell 10\u001b[0m in \u001b[0;36m<cell line: 5>\u001b[1;34m()\u001b[0m\n\u001b[0;32m      <a href='vscode-notebook-cell:/c%3A/Users/Lenovo/Desktop/data%20source%20api.ipynb#X11sZmlsZQ%3D%3D?line=3'>4</a>\u001b[0m \u001b[39m#start = time.clock()\u001b[39;00m\n\u001b[0;32m      <a href='vscode-notebook-cell:/c%3A/Users/Lenovo/Desktop/data%20source%20api.ipynb#X11sZmlsZQ%3D%3D?line=4'>5</a>\u001b[0m \u001b[39mfor\u001b[39;00m i \u001b[39min\u001b[39;00m tick:\n\u001b[1;32m----> <a href='vscode-notebook-cell:/c%3A/Users/Lenovo/Desktop/data%20source%20api.ipynb#X11sZmlsZQ%3D%3D?line=5'>6</a>\u001b[0m     data \u001b[39m=\u001b[39m pdr\u001b[39m.\u001b[39;49mget_data_alphavantage(i, api_key\u001b[39m=\u001b[39;49m\u001b[39m'\u001b[39;49m\u001b[39m1NSFEG3NTR9VZZOF\u001b[39;49m\u001b[39m'\u001b[39;49m)\n\u001b[0;32m      <a href='vscode-notebook-cell:/c%3A/Users/Lenovo/Desktop/data%20source%20api.ipynb#X11sZmlsZQ%3D%3D?line=6'>7</a>\u001b[0m     data\u001b[39m.\u001b[39mto_csv(i\u001b[39m+\u001b[39m\u001b[39m\"\u001b[39m\u001b[39m.csv\u001b[39m\u001b[39m\"\u001b[39m)\n",
      "File \u001b[1;32mc:\\Users\\Lenovo\\AppData\\Local\\Programs\\Python\\Python39\\lib\\site-packages\\pandas_datareader\\data.py:68\u001b[0m, in \u001b[0;36mget_data_alphavantage\u001b[1;34m(*args, **kwargs)\u001b[0m\n\u001b[0;32m     67\u001b[0m \u001b[39mdef\u001b[39;00m \u001b[39mget_data_alphavantage\u001b[39m(\u001b[39m*\u001b[39margs, \u001b[39m*\u001b[39m\u001b[39m*\u001b[39mkwargs):\n\u001b[1;32m---> 68\u001b[0m     \u001b[39mreturn\u001b[39;00m AVTimeSeriesReader(\u001b[39m*\u001b[39;49margs, \u001b[39m*\u001b[39;49m\u001b[39m*\u001b[39;49mkwargs)\u001b[39m.\u001b[39;49mread()\n",
      "File \u001b[1;32mc:\\Users\\Lenovo\\AppData\\Local\\Programs\\Python\\Python39\\lib\\site-packages\\pandas_datareader\\base.py:101\u001b[0m, in \u001b[0;36m_BaseReader.read\u001b[1;34m(self)\u001b[0m\n\u001b[0;32m     99\u001b[0m \u001b[39m\"\"\"Read data from connector\"\"\"\u001b[39;00m\n\u001b[0;32m    100\u001b[0m \u001b[39mtry\u001b[39;00m:\n\u001b[1;32m--> 101\u001b[0m     \u001b[39mreturn\u001b[39;00m \u001b[39mself\u001b[39;49m\u001b[39m.\u001b[39;49m_read_one_data(\u001b[39mself\u001b[39;49m\u001b[39m.\u001b[39;49murl, \u001b[39mself\u001b[39;49m\u001b[39m.\u001b[39;49mparams)\n\u001b[0;32m    102\u001b[0m \u001b[39mfinally\u001b[39;00m:\n\u001b[0;32m    103\u001b[0m     \u001b[39mself\u001b[39m\u001b[39m.\u001b[39mclose()\n",
      "File \u001b[1;32mc:\\Users\\Lenovo\\AppData\\Local\\Programs\\Python\\Python39\\lib\\site-packages\\pandas_datareader\\base.py:113\u001b[0m, in \u001b[0;36m_BaseReader._read_one_data\u001b[1;34m(self, url, params)\u001b[0m\n\u001b[0;32m    111\u001b[0m \u001b[39melse\u001b[39;00m:\n\u001b[0;32m    112\u001b[0m     \u001b[39mraise\u001b[39;00m \u001b[39mNotImplementedError\u001b[39;00m(\u001b[39mself\u001b[39m\u001b[39m.\u001b[39m_format)\n\u001b[1;32m--> 113\u001b[0m \u001b[39mreturn\u001b[39;00m \u001b[39mself\u001b[39;49m\u001b[39m.\u001b[39;49m_read_lines(out)\n",
      "File \u001b[1;32mc:\\Users\\Lenovo\\AppData\\Local\\Programs\\Python\\Python39\\lib\\site-packages\\pandas_datareader\\av\\time_series.py:114\u001b[0m, in \u001b[0;36mAVTimeSeriesReader._read_lines\u001b[1;34m(self, out)\u001b[0m\n\u001b[0;32m    113\u001b[0m \u001b[39mdef\u001b[39;00m \u001b[39m_read_lines\u001b[39m(\u001b[39mself\u001b[39m, out):\n\u001b[1;32m--> 114\u001b[0m     data \u001b[39m=\u001b[39m \u001b[39msuper\u001b[39;49m(AVTimeSeriesReader, \u001b[39mself\u001b[39;49m)\u001b[39m.\u001b[39;49m_read_lines(out)\n\u001b[0;32m    115\u001b[0m     \u001b[39m# reverse since alphavantage returns descending by date\u001b[39;00m\n\u001b[0;32m    116\u001b[0m     data \u001b[39m=\u001b[39m data[::\u001b[39m-\u001b[39m\u001b[39m1\u001b[39m]\n",
      "File \u001b[1;32mc:\\Users\\Lenovo\\AppData\\Local\\Programs\\Python\\Python39\\lib\\site-packages\\pandas_datareader\\av\\__init__.py:81\u001b[0m, in \u001b[0;36mAlphaVantage._read_lines\u001b[1;34m(self, out)\u001b[0m\n\u001b[0;32m     75\u001b[0m         \u001b[39mraise\u001b[39;00m \u001b[39mValueError\u001b[39;00m(\n\u001b[0;32m     76\u001b[0m             \u001b[39m\"\u001b[39m\u001b[39mThe requested symbol \u001b[39m\u001b[39m{}\u001b[39;00m\u001b[39m could not be \u001b[39m\u001b[39m\"\u001b[39m\n\u001b[0;32m     77\u001b[0m             \u001b[39m\"\u001b[39m\u001b[39mretrieved. Check valid ticker\u001b[39m\u001b[39m\"\u001b[39m\n\u001b[0;32m     78\u001b[0m             \u001b[39m\"\u001b[39m\u001b[39m.\u001b[39m\u001b[39m\"\u001b[39m\u001b[39m.\u001b[39mformat(\u001b[39mself\u001b[39m\u001b[39m.\u001b[39msymbols)\n\u001b[0;32m     79\u001b[0m         )\n\u001b[0;32m     80\u001b[0m     \u001b[39melse\u001b[39;00m:\n\u001b[1;32m---> 81\u001b[0m         \u001b[39mraise\u001b[39;00m RemoteDataError(\n\u001b[0;32m     82\u001b[0m             \u001b[39m\"\u001b[39m\u001b[39m Their was an issue from the data vendor \u001b[39m\u001b[39m\"\u001b[39m\n\u001b[0;32m     83\u001b[0m             \u001b[39m\"\u001b[39m\u001b[39mside, here is their response: \u001b[39m\u001b[39m{}\u001b[39;00m\u001b[39m\"\u001b[39m\u001b[39m.\u001b[39mformat(out)\n\u001b[0;32m     84\u001b[0m         )\n\u001b[0;32m     85\u001b[0m df \u001b[39m=\u001b[39m df[\u001b[39msorted\u001b[39m(df\u001b[39m.\u001b[39mcolumns)]\n\u001b[0;32m     86\u001b[0m df\u001b[39m.\u001b[39mcolumns \u001b[39m=\u001b[39m [\u001b[39mid\u001b[39m[\u001b[39m3\u001b[39m:] \u001b[39mfor\u001b[39;00m \u001b[39mid\u001b[39m \u001b[39min\u001b[39;00m df\u001b[39m.\u001b[39mcolumns]\n",
      "\u001b[1;31mRemoteDataError\u001b[0m:  Their was an issue from the data vendor side, here is their response: {'Note': 'Thank you for using Alpha Vantage! Our standard API call frequency is 5 calls per minute and 500 calls per day. Please visit https://www.alphavantage.co/premium/ if you would like to target a higher API call frequency.'}"
     ]
    }
   ],
   "source": [
    "import pandas_datareader as pdr\n",
    "# Get Alpha Vantage Data\n",
    "tick = ['NVDA','MSFT','AAC','AACG', 'AACI','AACIW','AADI','AAIC','AAL','AAMC','AAME','AAN','AAOI','AAON','AAP','AAPL','AAQC','AAT','AATC','AAU','AAWW','AB','ABB','ABBV','ABC']\n",
    "start = time.clock()\n",
    "for i in tick:\n",
    "    data = pdr.get_data_alphavantage(i, api_key='1NSFEG3NTR9VZZOF')\n",
    "    data.to_csv(i+\".csv\")\n"
   ]
  },
  {
   "cell_type": "markdown",
   "metadata": {},
   "source": [
    "Zerodha-historical-data-download :\n",
    "This contains code to download historical data for more than 2000 days and intraday data for more than 100 days. Download the framework and customize accordingly.\n",
    "\n",
    "The changes you need to make.\n",
    "\n",
    "Set your working directory where you want your data to be downloaded.\n",
    "\n",
    "Enter your API key.\n",
    "\n",
    "Enter youy API secret.\n",
    "\n",
    "Generate request_token.\n",
    "\n",
    "Set the Access token.\n",
    "\n",
    "In the 'tickers' variable write all the stock names you want(write the names exactly as in zerodha app).\n",
    "\n",
    "in the fetchOHLC func, enter the number of days.\n",
    "\n",
    "Note: If you want F&O data, change the instruments('NSE') to instruments('NFO')."
   ]
  },
  {
   "cell_type": "code",
   "execution_count": 5,
   "metadata": {},
   "outputs": [],
   "source": [
    "!pip install kiteconnect --upgrade --quiet"
   ]
  },
  {
   "cell_type": "code",
   "execution_count": 6,
   "metadata": {},
   "outputs": [
    {
     "ename": "TokenException",
     "evalue": "Token is invalid or has expired.",
     "output_type": "error",
     "traceback": [
      "\u001b[1;31m---------------------------------------------------------------------------\u001b[0m",
      "\u001b[1;31mTokenException\u001b[0m                            Traceback (most recent call last)",
      "\u001b[1;32mc:\\Users\\Lenovo\\Desktop\\data source api.ipynb Cell 13\u001b[0m in \u001b[0;36m<cell line: 18>\u001b[1;34m()\u001b[0m\n\u001b[0;32m     <a href='vscode-notebook-cell:/c%3A/Users/Lenovo/Desktop/data%20source%20api.ipynb#X20sZmlsZQ%3D%3D?line=14'>15</a>\u001b[0m url \u001b[39m=\u001b[39m kite\u001b[39m.\u001b[39mlogin_url()\n\u001b[0;32m     <a href='vscode-notebook-cell:/c%3A/Users/Lenovo/Desktop/data%20source%20api.ipynb#X20sZmlsZQ%3D%3D?line=16'>17</a>\u001b[0m request_token \u001b[39m=\u001b[39m \u001b[39m'\u001b[39m\u001b[39myour_request_token\u001b[39m\u001b[39m'\u001b[39m\n\u001b[1;32m---> <a href='vscode-notebook-cell:/c%3A/Users/Lenovo/Desktop/data%20source%20api.ipynb#X20sZmlsZQ%3D%3D?line=17'>18</a>\u001b[0m session \u001b[39m=\u001b[39m kite\u001b[39m.\u001b[39;49mgenerate_session(request_token, api_secret)\n\u001b[0;32m     <a href='vscode-notebook-cell:/c%3A/Users/Lenovo/Desktop/data%20source%20api.ipynb#X20sZmlsZQ%3D%3D?line=18'>19</a>\u001b[0m access_token \u001b[39m=\u001b[39m session[\u001b[39m'\u001b[39m\u001b[39maccess_token\u001b[39m\u001b[39m'\u001b[39m]\n\u001b[0;32m     <a href='vscode-notebook-cell:/c%3A/Users/Lenovo/Desktop/data%20source%20api.ipynb#X20sZmlsZQ%3D%3D?line=19'>20</a>\u001b[0m kite\u001b[39m.\u001b[39mset_access_token(access_token)\n",
      "File \u001b[1;32mc:\\Users\\Lenovo\\AppData\\Local\\Programs\\Python\\Python39\\lib\\site-packages\\kiteconnect\\connect.py:260\u001b[0m, in \u001b[0;36mKiteConnect.generate_session\u001b[1;34m(self, request_token, api_secret)\u001b[0m\n\u001b[0;32m    257\u001b[0m h \u001b[39m=\u001b[39m hashlib\u001b[39m.\u001b[39msha256(\u001b[39mself\u001b[39m\u001b[39m.\u001b[39mapi_key\u001b[39m.\u001b[39mencode(\u001b[39m\"\u001b[39m\u001b[39mutf-8\u001b[39m\u001b[39m\"\u001b[39m) \u001b[39m+\u001b[39m request_token\u001b[39m.\u001b[39mencode(\u001b[39m\"\u001b[39m\u001b[39mutf-8\u001b[39m\u001b[39m\"\u001b[39m) \u001b[39m+\u001b[39m api_secret\u001b[39m.\u001b[39mencode(\u001b[39m\"\u001b[39m\u001b[39mutf-8\u001b[39m\u001b[39m\"\u001b[39m))\n\u001b[0;32m    258\u001b[0m checksum \u001b[39m=\u001b[39m h\u001b[39m.\u001b[39mhexdigest()\n\u001b[1;32m--> 260\u001b[0m resp \u001b[39m=\u001b[39m \u001b[39mself\u001b[39;49m\u001b[39m.\u001b[39;49m_post(\u001b[39m\"\u001b[39;49m\u001b[39mapi.token\u001b[39;49m\u001b[39m\"\u001b[39;49m, params\u001b[39m=\u001b[39;49m{\n\u001b[0;32m    261\u001b[0m     \u001b[39m\"\u001b[39;49m\u001b[39mapi_key\u001b[39;49m\u001b[39m\"\u001b[39;49m: \u001b[39mself\u001b[39;49m\u001b[39m.\u001b[39;49mapi_key,\n\u001b[0;32m    262\u001b[0m     \u001b[39m\"\u001b[39;49m\u001b[39mrequest_token\u001b[39;49m\u001b[39m\"\u001b[39;49m: request_token,\n\u001b[0;32m    263\u001b[0m     \u001b[39m\"\u001b[39;49m\u001b[39mchecksum\u001b[39;49m\u001b[39m\"\u001b[39;49m: checksum\n\u001b[0;32m    264\u001b[0m })\n\u001b[0;32m    266\u001b[0m \u001b[39mif\u001b[39;00m \u001b[39m\"\u001b[39m\u001b[39maccess_token\u001b[39m\u001b[39m\"\u001b[39m \u001b[39min\u001b[39;00m resp:\n\u001b[0;32m    267\u001b[0m     \u001b[39mself\u001b[39m\u001b[39m.\u001b[39mset_access_token(resp[\u001b[39m\"\u001b[39m\u001b[39maccess_token\u001b[39m\u001b[39m\"\u001b[39m])\n",
      "File \u001b[1;32mc:\\Users\\Lenovo\\AppData\\Local\\Programs\\Python\\Python39\\lib\\site-packages\\kiteconnect\\connect.py:846\u001b[0m, in \u001b[0;36mKiteConnect._post\u001b[1;34m(self, route, url_args, params, is_json, query_params)\u001b[0m\n\u001b[0;32m    844\u001b[0m \u001b[39mdef\u001b[39;00m \u001b[39m_post\u001b[39m(\u001b[39mself\u001b[39m, route, url_args\u001b[39m=\u001b[39m\u001b[39mNone\u001b[39;00m, params\u001b[39m=\u001b[39m\u001b[39mNone\u001b[39;00m, is_json\u001b[39m=\u001b[39m\u001b[39mFalse\u001b[39;00m, query_params\u001b[39m=\u001b[39m\u001b[39mNone\u001b[39;00m):\n\u001b[0;32m    845\u001b[0m     \u001b[39m\"\"\"Alias for sending a POST request.\"\"\"\u001b[39;00m\n\u001b[1;32m--> 846\u001b[0m     \u001b[39mreturn\u001b[39;00m \u001b[39mself\u001b[39;49m\u001b[39m.\u001b[39;49m_request(route, \u001b[39m\"\u001b[39;49m\u001b[39mPOST\u001b[39;49m\u001b[39m\"\u001b[39;49m, url_args\u001b[39m=\u001b[39;49murl_args, params\u001b[39m=\u001b[39;49mparams, is_json\u001b[39m=\u001b[39;49mis_json, query_params\u001b[39m=\u001b[39;49mquery_params)\n",
      "File \u001b[1;32mc:\\Users\\Lenovo\\AppData\\Local\\Programs\\Python\\Python39\\lib\\site-packages\\kiteconnect\\connect.py:918\u001b[0m, in \u001b[0;36mKiteConnect._request\u001b[1;34m(self, route, method, url_args, params, is_json, query_params)\u001b[0m\n\u001b[0;32m    916\u001b[0m         \u001b[39m# native Kite errors\u001b[39;00m\n\u001b[0;32m    917\u001b[0m         exp \u001b[39m=\u001b[39m \u001b[39mgetattr\u001b[39m(ex, data\u001b[39m.\u001b[39mget(\u001b[39m\"\u001b[39m\u001b[39merror_type\u001b[39m\u001b[39m\"\u001b[39m), ex\u001b[39m.\u001b[39mGeneralException)\n\u001b[1;32m--> 918\u001b[0m         \u001b[39mraise\u001b[39;00m exp(data[\u001b[39m\"\u001b[39m\u001b[39mmessage\u001b[39m\u001b[39m\"\u001b[39m], code\u001b[39m=\u001b[39mr\u001b[39m.\u001b[39mstatus_code)\n\u001b[0;32m    920\u001b[0m     \u001b[39mreturn\u001b[39;00m data[\u001b[39m\"\u001b[39m\u001b[39mdata\u001b[39m\u001b[39m\"\u001b[39m]\n\u001b[0;32m    921\u001b[0m \u001b[39melif\u001b[39;00m \u001b[39m\"\u001b[39m\u001b[39mcsv\u001b[39m\u001b[39m\"\u001b[39m \u001b[39min\u001b[39;00m r\u001b[39m.\u001b[39mheaders[\u001b[39m\"\u001b[39m\u001b[39mcontent-type\u001b[39m\u001b[39m\"\u001b[39m]:\n",
      "\u001b[1;31mTokenException\u001b[0m: Token is invalid or has expired."
     ]
    }
   ],
   "source": [
    "from kiteconnect import KiteConnect, KiteTicker\n",
    "import pandas as pd\n",
    "import datetime as dt\n",
    "import numpy as np\n",
    "import os\n",
    "import time\n",
    "import json\n",
    "\n",
    "\n",
    "\n",
    "api_key = 'your_api_key'\n",
    "api_secret = 'your_api_secret'\n",
    "\n",
    "kite = KiteConnect(api_key)\n",
    "url = kite.login_url()\n",
    "\n",
    "request_token = 'your_request_token'\n",
    "session = kite.generate_session(request_token, api_secret)\n",
    "access_token = session['access_token']\n",
    "kite.set_access_token(access_token)\n",
    "\n",
    "instruments = pd.DataFrame(kite.instruments('NSE'))\n",
    "\n",
    "\n",
    "def lookup(df, symbol):\n",
    "    try:\n",
    "        return df[df.tradingsymbol==symbol].instrument_token.values[0]\n",
    "    except:\n",
    "        return -1\n",
    "\n",
    "def fetchandstoreOHLC(symbol,duration,tf):\n",
    "    nodata=[]\n",
    "    try:\n",
    "        if not os.path.isfile(symbol+'.csv'):\n",
    "            data = pd.DataFrame()\n",
    "            instrument_token = lookup(instruments, symbol)  \n",
    "            if duration>100:\n",
    "                no_of_hundreds = duration//100\n",
    "                start = 100\n",
    "                end = 0\n",
    "                for i in range(no_of_hundreds):\n",
    "                    df = pd.DataFrame(kite.historical_data(instrument_token, from_date = dt.datetime.today()-dt.timedelta(start), \n",
    "                    to_date = dt.datetime.today()-dt.timedelta(end), interval = tf))\n",
    "                    data = data.append(df)\n",
    "                    start+=100\n",
    "                    end+=100\n",
    "                dur1 = duration%100\n",
    "                df1 = pd.DataFrame(kite.historical_data(instrument_token, from_date = dt.datetime.today()-dt.timedelta(duration), \n",
    "                                      to_date = dt.datetime.today()-dt.timedelta(duration-dur1), interval = tf))\n",
    "                data = data.append(df1)\n",
    "            else:\n",
    "                df2 = pd.DataFrame(kite.historical_data(instrument_token, from_date = dt.datetime.today()-dt.timedelta(duration), \n",
    "                                      to_date = dt.datetime.today(), interval = tf))\n",
    "                data = data.append(df2)\n",
    "            data.set_index(\"date\", inplace = True)\n",
    "            data.sort_index(ascending= True,inplace = True)\n",
    "            print('Storing {} days data for {}'.format(duration, symbol))\n",
    "            data.to_csv(symbol+'.csv')\n",
    "        else:\n",
    "            print('Data already available for{}'.format(symbol))\n",
    "            return\n",
    "    except:\n",
    "        print(\"skipping for {}\".format(symbol))\n",
    "        nodata.append(symbol)\n",
    "    \n",
    "tickers = ['HDFCBANK','ICICIBANK','KOTAKBANK', 'AXISBANK', 'SBIN', 'RELIANCE','TCS','INFY','HINDUNILVR','HDFC','BAJFINANCE','WIPRO','BHARTIARTL','HCLTECH','ASIANPAINT','ITC','LT','ULTRACEMCO',\n",
    "           'MARUTI','SUNPHARMA','TATASTEEL','JSWSTEEL','TITAN','ADANIPORTS','ONGC','HDFCLIFE','TECHM','DIVISLAB','POWERGRID','SBILIFE','NTPC','BAJAJ-AUTO','BPCL','IOC','M&M','SHREECEM','HINDALCO',\n",
    "           'GRASIM','BRITANNIA','TATAMOTORS','COALINDIA','TATACONSUM','INDUSINDBK','DRREDDY','CIPLA','EICHERMOT','UPL','NESTLEIND','HEROMOTOCO','NIFTY 50','NIFTY BANK']\n",
    "\n",
    "\n",
    "for ticker in tickers:\n",
    "    fetchandstoreOHLC(ticker, 1095, '5minute')\n"
   ]
  },
  {
   "cell_type": "markdown",
   "metadata": {},
   "source": [
    "Angel One:\n",
    "SMARTAPI-PYTHON is a Python library for dealing AMX,that is a set of REST-like HTTP APIs that expose many capabilities required to build stock market investment and trading platforms. It lets you execute orders in real time.\n"
   ]
  },
  {
   "cell_type": "code",
   "execution_count": 14,
   "metadata": {},
   "outputs": [],
   "source": [
    "!pip install smartapi-python --quiet"
   ]
  },
  {
   "cell_type": "code",
   "execution_count": 15,
   "metadata": {},
   "outputs": [
    {
     "ename": "ModuleNotFoundError",
     "evalue": "No module named 'smartapi'",
     "output_type": "error",
     "traceback": [
      "\u001b[1;31m---------------------------------------------------------------------------\u001b[0m",
      "\u001b[1;31mModuleNotFoundError\u001b[0m                       Traceback (most recent call last)",
      "\u001b[1;32mc:\\Users\\Lenovo\\Desktop\\data source api.ipynb Cell 16\u001b[0m in \u001b[0;36m<cell line: 1>\u001b[1;34m()\u001b[0m\n\u001b[1;32m----> <a href='vscode-notebook-cell:/c%3A/Users/Lenovo/Desktop/data%20source%20api.ipynb#X22sZmlsZQ%3D%3D?line=0'>1</a>\u001b[0m \u001b[39mfrom\u001b[39;00m \u001b[39msmartapi\u001b[39;00m\u001b[39m.\u001b[39;00m\u001b[39msmartConnect\u001b[39;00m \u001b[39mimport\u001b[39;00m SmartConnect\n\u001b[0;32m      <a href='vscode-notebook-cell:/c%3A/Users/Lenovo/Desktop/data%20source%20api.ipynb#X22sZmlsZQ%3D%3D?line=1'>2</a>\u001b[0m \u001b[39mimport\u001b[39;00m \u001b[39mpandas\u001b[39;00m \u001b[39mas\u001b[39;00m \u001b[39mpd\u001b[39;00m\n\u001b[0;32m      <a href='vscode-notebook-cell:/c%3A/Users/Lenovo/Desktop/data%20source%20api.ipynb#X22sZmlsZQ%3D%3D?line=2'>3</a>\u001b[0m \u001b[39mimport\u001b[39;00m \u001b[39mrequests\u001b[39;00m\n",
      "\u001b[1;31mModuleNotFoundError\u001b[0m: No module named 'smartapi'"
     ]
    }
   ],
   "source": [
    "from smartapi.smartConnect import SmartConnect\n",
    "import pandas as pd\n",
    "import requests\n",
    "feed_token = None\n",
    "\n",
    "obj = SmartConnect(api_key=\"api_key\")\n",
    "data = obj.generateSession(\"username\", \"password\")\n",
    "refreshToken=data['data']['refreshToken']\n",
    "\n",
    "#fetch the feedtoken\n",
    "feedToken = obj.getfeedToken()\n",
    "feed_token = feedToken\n",
    "#fetch User Profile\n",
    "userProfile = obj.getProfile((refreshToken))\n",
    "print(userProfile)\n",
    "\n",
    "#historic api\n",
    "def OHLCHistory(symbol, token, interval, fdate, todate):\n",
    "    try:\n",
    "        historicParam={\n",
    "            \"exchange\":\"NSE\",\n",
    "            \"tradingsymbol\":symbol,\n",
    "            \"symboltoken\":token,\n",
    "            \"interval\":interval,\n",
    "            \"fromdate\":fdate,\n",
    "            \"todate\":todate\n",
    "        }\n",
    "        history = obj.getCandleData(historicParam)['data']\n",
    "        history = pd.DataFrame(history)\n",
    "\n",
    "        history = history.rename(\n",
    "            columns={0: \"DateTime\", 1: \"open\", 2: \"high\", 3: \"low\", 4: \"close\", 5:\"Volumne\"}\n",
    "        )\n",
    "        history['DateTime']=pd.to_datetime(history['DataTime'])\n",
    "        history=history.set_index('DateTime')\n",
    "        return history\n",
    "    except Exception as e:\n",
    "        print(\"Histpric api failed: {}\".format(e))\n",
    "data = OHLCHistory(\"SBIN-EQ\", \"3045\", \"ONE_DAY\", \"2020-02-08 00:00\", \"2021-02-08 15:30\")\n",
    "data_df = pd.DataFrame(data)\n",
    "data_df.to_csv(r'{}.csv'.format(\"SBIN_EQ\"), index=True, header=False)"
   ]
  }
 ],
 "metadata": {
  "kernelspec": {
   "display_name": "Python 3.9.6 64-bit",
   "language": "python",
   "name": "python3"
  },
  "language_info": {
   "codemirror_mode": {
    "name": "ipython",
    "version": 3
   },
   "file_extension": ".py",
   "mimetype": "text/x-python",
   "name": "python",
   "nbconvert_exporter": "python",
   "pygments_lexer": "ipython3",
   "version": "3.9.6"
  },
  "orig_nbformat": 4,
  "vscode": {
   "interpreter": {
    "hash": "8f8cf99212f81ad0c4765861267244807ee1c18364846cdce387b28994a977ba"
   }
  }
 },
 "nbformat": 4,
 "nbformat_minor": 2
}
